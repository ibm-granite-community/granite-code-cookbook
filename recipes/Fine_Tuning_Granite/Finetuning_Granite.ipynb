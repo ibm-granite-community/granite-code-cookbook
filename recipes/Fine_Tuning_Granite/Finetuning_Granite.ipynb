{
 "cells": [
  {
   "cell_type": "markdown",
   "metadata": {
    "id": "xIj6q15Z5gpO"
   },
   "source": [
    "# Fine-tuning a Code Instruction Model for Legal Tasks\n",
    "\n",
    "In this notebook, we demonstrate how to fine-tune the `ibm-granite/granite-3b-code-instruct-2k` model, a small code instruction model, on a legal dataset using the qLoRA (Quantized Low-Rank Adaptation) technique. This experiment serves two primary purposes:\n",
    "\n",
    "1. Educational: It showcases the process of adapting a pre-trained model to a new domain.\n",
    "2. Practical: It illustrates how a model's interpretation of domain-specific terms (like 'inheritance') can shift based on the training data.\n",
    "\n",
    "We'll walk through several key steps:\n",
    "- Installing necessary dependencies\n",
    "- Loading and exploring the dataset\n",
    "- Setting up the quantized model\n",
    "- Performing a sanity check\n",
    "- Configuring and executing the training process\n",
    "\n",
    "By the end, we'll have a model that has learned to interpret legal concepts, demonstrating the power and flexibility of transfer learning in NLP."
   ]
  },
  {
   "cell_type": "code",
   "execution_count": null,
   "metadata": {
    "id": "l8e_ji3fd81d"
   },
   "outputs": [
    {
     "name": "stdout",
     "output_type": "stream",
     "text": [
      "Requirement already satisfied: transformers in /Users/pravinkedia/Downloads/LatestCookBook/granite-code-cookbook/.venv/lib/python3.12/site-packages (4.47.1)\n",
      "Collecting datasets\n",
      "  Downloading datasets-3.2.0-py3-none-any.whl.metadata (20 kB)\n",
      "Collecting accelerate\n",
      "  Downloading accelerate-1.2.1-py3-none-any.whl.metadata (19 kB)\n",
      "Collecting bitsandbytes\n",
      "  Downloading bitsandbytes-0.42.0-py3-none-any.whl.metadata (9.9 kB)\n",
      "Collecting peft\n",
      "  Downloading peft-0.14.0-py3-none-any.whl.metadata (13 kB)\n",
      "Collecting trl\n",
      "  Downloading trl-0.13.0-py3-none-any.whl.metadata (11 kB)\n",
      "Requirement already satisfied: filelock in /Users/pravinkedia/Downloads/LatestCookBook/granite-code-cookbook/.venv/lib/python3.12/site-packages (from transformers) (3.16.1)\n",
      "Requirement already satisfied: huggingface-hub<1.0,>=0.24.0 in /Users/pravinkedia/Downloads/LatestCookBook/granite-code-cookbook/.venv/lib/python3.12/site-packages (from transformers) (0.27.0)\n",
      "Requirement already satisfied: numpy>=1.17 in /Users/pravinkedia/Downloads/LatestCookBook/granite-code-cookbook/.venv/lib/python3.12/site-packages (from transformers) (1.26.4)\n",
      "Requirement already satisfied: packaging>=20.0 in /Users/pravinkedia/Downloads/LatestCookBook/granite-code-cookbook/.venv/lib/python3.12/site-packages (from transformers) (24.2)\n",
      "Requirement already satisfied: pyyaml>=5.1 in /Users/pravinkedia/Downloads/LatestCookBook/granite-code-cookbook/.venv/lib/python3.12/site-packages (from transformers) (6.0.2)\n",
      "Requirement already satisfied: regex!=2019.12.17 in /Users/pravinkedia/Downloads/LatestCookBook/granite-code-cookbook/.venv/lib/python3.12/site-packages (from transformers) (2024.11.6)\n",
      "Requirement already satisfied: requests in /Users/pravinkedia/Downloads/LatestCookBook/granite-code-cookbook/.venv/lib/python3.12/site-packages (from transformers) (2.32.3)\n",
      "Requirement already satisfied: tokenizers<0.22,>=0.21 in /Users/pravinkedia/Downloads/LatestCookBook/granite-code-cookbook/.venv/lib/python3.12/site-packages (from transformers) (0.21.0)\n",
      "Requirement already satisfied: safetensors>=0.4.1 in /Users/pravinkedia/Downloads/LatestCookBook/granite-code-cookbook/.venv/lib/python3.12/site-packages (from transformers) (0.4.5)\n",
      "Requirement already satisfied: tqdm>=4.27 in /Users/pravinkedia/Downloads/LatestCookBook/granite-code-cookbook/.venv/lib/python3.12/site-packages (from transformers) (4.67.1)\n",
      "Collecting pyarrow>=15.0.0 (from datasets)\n",
      "  Downloading pyarrow-18.1.0-cp312-cp312-macosx_12_0_arm64.whl.metadata (3.3 kB)\n",
      "Collecting dill<0.3.9,>=0.3.0 (from datasets)\n",
      "  Downloading dill-0.3.8-py3-none-any.whl.metadata (10 kB)\n",
      "Requirement already satisfied: pandas in /Users/pravinkedia/Downloads/LatestCookBook/granite-code-cookbook/.venv/lib/python3.12/site-packages (from datasets) (2.2.3)\n",
      "Collecting xxhash (from datasets)\n",
      "  Downloading xxhash-3.5.0-cp312-cp312-macosx_11_0_arm64.whl.metadata (12 kB)\n",
      "Collecting multiprocess<0.70.17 (from datasets)\n",
      "  Downloading multiprocess-0.70.16-py312-none-any.whl.metadata (7.2 kB)\n",
      "Collecting fsspec<=2024.9.0,>=2023.1.0 (from fsspec[http]<=2024.9.0,>=2023.1.0->datasets)\n",
      "  Downloading fsspec-2024.9.0-py3-none-any.whl.metadata (11 kB)\n",
      "Requirement already satisfied: aiohttp in /Users/pravinkedia/Downloads/LatestCookBook/granite-code-cookbook/.venv/lib/python3.12/site-packages (from datasets) (3.11.11)\n",
      "Requirement already satisfied: psutil in /Users/pravinkedia/Downloads/LatestCookBook/granite-code-cookbook/.venv/lib/python3.12/site-packages (from accelerate) (6.1.1)\n",
      "Collecting torch>=1.10.0 (from accelerate)\n",
      "  Downloading torch-2.5.1-cp312-none-macosx_11_0_arm64.whl.metadata (28 kB)\n",
      "Collecting scipy (from bitsandbytes)\n",
      "  Downloading scipy-1.14.1-cp312-cp312-macosx_14_0_arm64.whl.metadata (60 kB)\n",
      "Collecting rich (from trl)\n",
      "  Downloading rich-13.9.4-py3-none-any.whl.metadata (18 kB)\n",
      "Requirement already satisfied: aiohappyeyeballs>=2.3.0 in /Users/pravinkedia/Downloads/LatestCookBook/granite-code-cookbook/.venv/lib/python3.12/site-packages (from aiohttp->datasets) (2.4.4)\n",
      "Requirement already satisfied: aiosignal>=1.1.2 in /Users/pravinkedia/Downloads/LatestCookBook/granite-code-cookbook/.venv/lib/python3.12/site-packages (from aiohttp->datasets) (1.3.2)\n",
      "Requirement already satisfied: attrs>=17.3.0 in /Users/pravinkedia/Downloads/LatestCookBook/granite-code-cookbook/.venv/lib/python3.12/site-packages (from aiohttp->datasets) (24.3.0)\n",
      "Requirement already satisfied: frozenlist>=1.1.1 in /Users/pravinkedia/Downloads/LatestCookBook/granite-code-cookbook/.venv/lib/python3.12/site-packages (from aiohttp->datasets) (1.5.0)\n",
      "Requirement already satisfied: multidict<7.0,>=4.5 in /Users/pravinkedia/Downloads/LatestCookBook/granite-code-cookbook/.venv/lib/python3.12/site-packages (from aiohttp->datasets) (6.1.0)\n",
      "Requirement already satisfied: propcache>=0.2.0 in /Users/pravinkedia/Downloads/LatestCookBook/granite-code-cookbook/.venv/lib/python3.12/site-packages (from aiohttp->datasets) (0.2.1)\n",
      "Requirement already satisfied: yarl<2.0,>=1.17.0 in /Users/pravinkedia/Downloads/LatestCookBook/granite-code-cookbook/.venv/lib/python3.12/site-packages (from aiohttp->datasets) (1.18.3)\n",
      "Requirement already satisfied: typing-extensions>=3.7.4.3 in /Users/pravinkedia/Downloads/LatestCookBook/granite-code-cookbook/.venv/lib/python3.12/site-packages (from huggingface-hub<1.0,>=0.24.0->transformers) (4.12.2)\n",
      "Requirement already satisfied: charset-normalizer<4,>=2 in /Users/pravinkedia/Downloads/LatestCookBook/granite-code-cookbook/.venv/lib/python3.12/site-packages (from requests->transformers) (3.4.0)\n",
      "Requirement already satisfied: idna<4,>=2.5 in /Users/pravinkedia/Downloads/LatestCookBook/granite-code-cookbook/.venv/lib/python3.12/site-packages (from requests->transformers) (3.10)\n",
      "Requirement already satisfied: urllib3<3,>=1.21.1 in /Users/pravinkedia/Downloads/LatestCookBook/granite-code-cookbook/.venv/lib/python3.12/site-packages (from requests->transformers) (2.3.0)\n",
      "Requirement already satisfied: certifi>=2017.4.17 in /Users/pravinkedia/Downloads/LatestCookBook/granite-code-cookbook/.venv/lib/python3.12/site-packages (from requests->transformers) (2024.12.14)\n",
      "Collecting networkx (from torch>=1.10.0->accelerate)\n",
      "  Downloading networkx-3.4.2-py3-none-any.whl.metadata (6.3 kB)\n",
      "Collecting jinja2 (from torch>=1.10.0->accelerate)\n",
      "  Downloading jinja2-3.1.5-py3-none-any.whl.metadata (2.6 kB)\n",
      "Collecting setuptools (from torch>=1.10.0->accelerate)\n",
      "  Using cached setuptools-75.6.0-py3-none-any.whl.metadata (6.7 kB)\n",
      "Collecting sympy==1.13.1 (from torch>=1.10.0->accelerate)\n",
      "  Downloading sympy-1.13.1-py3-none-any.whl.metadata (12 kB)\n",
      "Collecting mpmath<1.4,>=1.1.0 (from sympy==1.13.1->torch>=1.10.0->accelerate)\n",
      "  Downloading mpmath-1.3.0-py3-none-any.whl.metadata (8.6 kB)\n",
      "Requirement already satisfied: python-dateutil>=2.8.2 in /Users/pravinkedia/Downloads/LatestCookBook/granite-code-cookbook/.venv/lib/python3.12/site-packages (from pandas->datasets) (2.9.0.post0)\n",
      "Requirement already satisfied: pytz>=2020.1 in /Users/pravinkedia/Downloads/LatestCookBook/granite-code-cookbook/.venv/lib/python3.12/site-packages (from pandas->datasets) (2024.2)\n",
      "Requirement already satisfied: tzdata>=2022.7 in /Users/pravinkedia/Downloads/LatestCookBook/granite-code-cookbook/.venv/lib/python3.12/site-packages (from pandas->datasets) (2024.2)\n",
      "Collecting markdown-it-py>=2.2.0 (from rich->trl)\n",
      "  Downloading markdown_it_py-3.0.0-py3-none-any.whl.metadata (6.9 kB)\n",
      "Requirement already satisfied: pygments<3.0.0,>=2.13.0 in /Users/pravinkedia/Downloads/LatestCookBook/granite-code-cookbook/.venv/lib/python3.12/site-packages (from rich->trl) (2.18.0)\n",
      "Collecting mdurl~=0.1 (from markdown-it-py>=2.2.0->rich->trl)\n",
      "  Downloading mdurl-0.1.2-py3-none-any.whl.metadata (1.6 kB)\n",
      "Requirement already satisfied: six>=1.5 in /Users/pravinkedia/Downloads/LatestCookBook/granite-code-cookbook/.venv/lib/python3.12/site-packages (from python-dateutil>=2.8.2->pandas->datasets) (1.17.0)\n",
      "Collecting MarkupSafe>=2.0 (from jinja2->torch>=1.10.0->accelerate)\n",
      "  Downloading MarkupSafe-3.0.2-cp312-cp312-macosx_11_0_arm64.whl.metadata (4.0 kB)\n",
      "Downloading datasets-3.2.0-py3-none-any.whl (480 kB)\n",
      "Downloading accelerate-1.2.1-py3-none-any.whl (336 kB)\n",
      "Downloading bitsandbytes-0.42.0-py3-none-any.whl (105.0 MB)\n",
      "\u001b[2K   \u001b[90m━━━━━━━━━━━━━━━━━━━━━━━━━━━━━━━━━━━━━━━━\u001b[0m \u001b[32m105.0/105.0 MB\u001b[0m \u001b[31m3.8 MB/s\u001b[0m eta \u001b[36m0:00:00\u001b[0m00:01\u001b[0m00:01\u001b[0m\n",
      "\u001b[?25hDownloading peft-0.14.0-py3-none-any.whl (374 kB)\n",
      "Downloading trl-0.13.0-py3-none-any.whl (293 kB)\n",
      "Downloading dill-0.3.8-py3-none-any.whl (116 kB)\n",
      "Downloading fsspec-2024.9.0-py3-none-any.whl (179 kB)\n",
      "Downloading multiprocess-0.70.16-py312-none-any.whl (146 kB)\n",
      "Downloading pyarrow-18.1.0-cp312-cp312-macosx_12_0_arm64.whl (29.5 MB)\n",
      "\u001b[2K   \u001b[91m━\u001b[0m\u001b[90m╺\u001b[0m\u001b[90m━━━━━━━━━━━━━━━━━━━━━━━━━━━━━━━━━━━━━━\u001b[0m \u001b[32m1.0/29.5 MB\u001b[0m \u001b[31m5.7 MB/s\u001b[0m eta \u001b[36m0:00:05\u001b[0m"
     ]
    }
   ],
   "source": [
    "!pip install transformers datasets accelerate bitsandbytes peft trl"
   ]
  },
  {
   "cell_type": "markdown",
   "metadata": {
    "id": "eS-vhW2P6MdT"
   },
   "source": [
    "## Dataset Preparation\n",
    "\n",
    "We're using the `legal-llama-instruction1` dataset, which contains various legal questions and corresponding answers. This dataset is particularly valuable for our purpose as it covers a wide range of legal concepts, providing a solid foundation to evaluate how our model's understanding of legal terms differs from technical definitions.\n",
    "\n",
    "The dataset is split into training and testing subsets, allowing us to both train the model and evaluate its performance on unseen data."
   ]
  },
  {
   "cell_type": "code",
   "execution_count": null,
   "metadata": {
    "id": "np-FUjTfeLNh"
   },
   "outputs": [],
   "source": [
    "import timeit\n",
    "\n",
    "start_time = timeit.default_timer()\n",
    "from datasets import load_dataset\n",
    "\n",
    "dataset = load_dataset('dliu1/legal-llama-instruction1')\n",
    "\n",
    "split_dataset = dataset['train'].train_test_split(test_size=0.2)\n",
    "dataset_loadtime = timeit.default_timer() - start_time\n"
   ]
  },
  {
   "cell_type": "markdown",
   "metadata": {
    "id": "VoQp5knP6UpN"
   },
   "source": [
    "## Model Loading and Quantization\n",
    "\n",
    "Next, we load the quantized model. Quantization is a technique that reduces the model size and increases inference speed by approximating the weights of the model. We use the `BitsAndBytes` library, which allows us to load the model in a more memory-efficient format without significantly compromising performance.\n",
    "\n",
    "This step is crucial as it enables us to work with a large language model within the memory constraints of our hardware, making the fine-tuning process more accessible and efficient."
   ]
  },
  {
   "cell_type": "code",
   "execution_count": null,
   "metadata": {
    "id": "DBCHhukYox8G"
   },
   "outputs": [],
   "source": [
    "start_time = timeit.default_timer()\n",
    "import torch\n",
    "from transformers import AutoTokenizer, AutoModelForCausalLM, TrainingArguments, BitsAndBytesConfig\n",
    "from peft import LoraConfig\n",
    "from trl import SFTTrainer\n",
    "\n",
    "model_checkpoint = \"ibm-granite/granite-3.1-8b-instruct\"\n",
    "tokenizer = AutoTokenizer.from_pretrained(model_checkpoint)\n",
    "\n",
    "BitsAndBytesConfig\n",
    "\n",
    "bnb_config = BitsAndBytesConfig(\n",
    "    load_in_4bit=True,\n",
    "    bnb_4bit_quant_type=\"nf4\",\n",
    "    bnb_4bit_use_double_quant=True,\n",
    "    bnb_4bit_compute_dtype=torch.float16 # if not set will throw a warning about slow speeds when training\n",
    ")\n",
    "\n",
    "model = AutoModelForCausalLM.from_pretrained(\n",
    "  model_checkpoint,\n",
    "  quantization_config=bnb_config,\n",
    "  trust_remote_code=True\n",
    ")\n",
    "\n",
    "model_loadtime = timeit.default_timer() - start_time\n"
   ]
  },
  {
   "cell_type": "markdown",
   "metadata": {
    "id": "zfX4ltjB6mgL"
   },
   "source": [
    "## Model Sanity Check\n",
    "\n",
    "Before proceeding with fine-tuning, we perform a sanity check on the loaded model. We feed it an example prompt about 'inheritance' to ensure it produces intelligible and contextually appropriate responses.\n",
    "\n",
    "At this stage, the model should interpret 'inheritance' in a programming context, explaining how classes inherit properties and methods from one another. This output serves as a baseline, allowing us to compare how the model's understanding shifts after fine-tuning on legal data.\n",
    "\n",
    "Note that the output is truncated because of us setting `max_new_tokens=100`"
   ]
  },
  {
   "cell_type": "code",
   "execution_count": null,
   "metadata": {
    "id": "LQzeV3ytV42p"
   },
   "outputs": [],
   "source": [
    "start_time = timeit.default_timer()\n",
    "input_text = \"<|user>What does 'inheritance' mean?\\n<|assistant|>\\n\"\n",
    "# In coding, \"inheritance\" typically refers to a mechanism in object-oriented programming where a new class can inherit the properties and behavior of an existing class.\n",
    "# In a legal context, \"inheritance\" refers to the process by which a person receives property, titles, or debts from a deceased person.\n",
    "\n",
    "\n",
    "inputs = tokenizer(input_text, return_tensors=\"pt\")\n",
    "\n",
    "outputs = model.generate(**inputs, max_new_tokens=100)\n",
    "print(tokenizer.decode(outputs[0], skip_special_tokens=True))\n",
    "\n",
    "model_check_loadtime = timeit.default_timer() - start_time\n"
   ]
  },
  {
   "cell_type": "markdown",
   "metadata": {
    "id": "-7P4iUMPy2hF"
   },
   "source": [
    "### Sample Output\n",
    "\n",
    "```\n",
    "Inheritance is a mechanism by which one class acquires the properties and behaviors of another class. In object-oriented programming, inheritance allows a new class to inherit the properties and methods of an existing class, known as the parent or base class. This can be useful for code reuse and creating a hierarchy of classes.\n",
    "\n",
    "For example, let's say we have a base class called \"Vehicle\" that has properties like \"make\" and \"model\". We can create a subclass called \"Car\" that\n",
    "```"
   ]
  },
  {
   "cell_type": "markdown",
   "metadata": {
    "id": "l0CXDP4h7CfZ"
   },
   "source": [
    "## Training Setup\n",
    "\n",
    "In this section, we set up the training environment. Key steps include:\n",
    "\n",
    "1. Defining the format for training prompts to align with the model's expected inputs.\n",
    "2. Configuring the qLoRA technique, which allows us to fine-tune the model efficiently by only training a small number of additional parameters.\n",
    "3. Setting up the `SFTTrainer` (Supervised Fine-Tuning Trainer) with appropriate hyperparameters.\n",
    "\n",
    "This setup allows us to enhance specific aspects of the model's performance without retraining the entire model from scratch, saving computational resources and time."
   ]
  },
  {
   "cell_type": "code",
   "execution_count": null,
   "metadata": {
    "id": "Ng0W0ULxsE_i"
   },
   "outputs": [],
   "source": [
    "start_time = timeit.default_timer()\n",
    "def formatting_prompts_func(example):\n",
    "    output_texts = []\n",
    "    for i in range(len(example['question'])):\n",
    "        text = f\"<|system|>\\nYou are a helpful assistant\\n<|user|>\\n{example['question'][i]}\\n<|assistant|>\\n{example['answer'][i]}<|endoftext|>\"\n",
    "        output_texts.append(text)\n",
    "    return output_texts\n",
    "\n",
    "response_template = \"\\n<|assistant|>\\n\"\n",
    "\n",
    "from trl import DataCollatorForCompletionOnlyLM\n",
    "\n",
    "response_template_ids = tokenizer.encode(response_template, add_special_tokens=False)[2:]\n",
    "collator = DataCollatorForCompletionOnlyLM(response_template_ids, tokenizer=tokenizer)\n",
    "\n",
    "\n",
    "# Apply qLoRA\n",
    "qlora_config = LoraConfig(\n",
    "    r=16,  # The rank of the Low-Rank Adaptation\n",
    "    lora_alpha=32,  # Scaling factor for the adapted layers\n",
    "    target_modules=[\"q_proj\", \"v_proj\"],  # Layer names to apply LoRA to\n",
    "    lora_dropout=0.1,\n",
    "    bias=\"none\"\n",
    ")\n",
    "\n",
    "# Initialize the SFTTrainer\n",
    "training_args = TrainingArguments(\n",
    "    output_dir=\"./results\",\n",
    "    hub_model_id=\"rawkintrevo/granite-3b-code-instruct-2k-legal-adapter\",\n",
    "    learning_rate=2e-4,\n",
    "    per_device_train_batch_size=6,\n",
    "    per_device_eval_batch_size=6,\n",
    "    num_train_epochs=3,\n",
    "    logging_steps=100,\n",
    "    fp16=True\n",
    ")\n",
    "\n",
    "max_seq_length = 250\n",
    "\n",
    "trainer = SFTTrainer(\n",
    "    model=model,\n",
    "    args=training_args,\n",
    "    train_dataset=split_dataset['train'],\n",
    "    eval_dataset=split_dataset['test'],\n",
    "    tokenizer=tokenizer,\n",
    "    peft_config = qlora_config,\n",
    "    formatting_func=formatting_prompts_func,\n",
    "    data_collator=collator,\n",
    "    max_seq_length=max_seq_length,\n",
    ")\n",
    "\n",
    "training_setup_loadtime = timeit.default_timer() - start_time\n"
   ]
  },
  {
   "cell_type": "markdown",
   "metadata": {
    "id": "uKIe2z_THh35"
   },
   "source": [
    "## Training Process\n",
    "\n",
    "With all the preparations complete, we now start the training process. The model will be exposed to numerous examples from our legal dataset, gradually adjusting its understanding of legal concepts.\n",
    "\n",
    "We'll monitor the training loss over time, which should decrease as the model improves its performance on the task. After training, we'll save the fine-tuned model for future use."
   ]
  },
  {
   "cell_type": "code",
   "execution_count": null,
   "metadata": {
    "id": "oZ2rUKO2sdae"
   },
   "outputs": [],
   "source": [
    "start_time = timeit.default_timer()\n",
    "# Start training\n",
    "trainer.train()\n",
    "training_time = timeit.default_timer() - start_time\n"
   ]
  },
  {
   "cell_type": "markdown",
   "metadata": {
    "id": "zUjBCOZVIaas"
   },
   "source": [
    "## Saving the Fine-tuned Model\n",
    "\n",
    "After the training process is complete, it's crucial to save our fine-tuned model. This step ensures that we can reuse the model later without having to retrain it. We'll save both the model weights and the tokenizer, as they work in tandem to process and generate text.\n",
    "\n",
    "Saving the model allows us to distribute it, use it in different environments, or continue fine-tuning it in the future. It's a critical step in the machine learning workflow, preserving the knowledge our model has acquired through the training process."
   ]
  },
  {
   "cell_type": "code",
   "execution_count": null,
   "metadata": {
    "id": "rK1i3CFeebzu"
   },
   "outputs": [],
   "source": [
    "trainer.save_model(\"./results\")"
   ]
  },
  {
   "cell_type": "markdown",
   "metadata": {
    "id": "se2YObHlj4f3"
   },
   "source": [
    "### Persisting the Model to Huggingface Hub\n",
    "\n",
    "After fine-tuning and validating our model, a optional step is to make it easily accessible for future use or sharing with the community. The Hugging Face Hub provides an excellent platform for this purpose.\n",
    "\n",
    "Uploading our model to the Hugging Face Hub offers several benefits:\n",
    "1. Easy sharing and collaboration with other researchers or developers\n",
    "2. Version control for your model iterations\n",
    "3. Integration with various libraries and tools in the Hugging Face ecosystem\n",
    "4. Simplified deployment options\n",
    "\n",
    "We'll demonstrate how to push our fine-tuned model and tokenizer to the Hugging Face Hub, making it available for others to use or for easy integration into other projects. This step is essential for reproducibility and for contributing to the broader NLP community.\n",
    "\n",
    "**NOTE:** Check with your own legal counsel before pushing models to Huggingface Hub."
   ]
  },
  {
   "cell_type": "code",
   "execution_count": null,
   "metadata": {
    "id": "JkL-yHtth3Kc"
   },
   "outputs": [],
   "source": [
    "from google.colab import userdata\n",
    "from huggingface_hub import create_repo\n",
    "\n",
    "model_hub_id = \"rawkintrevo/granite-3b-code-instruct-2k-legal-adapter\"\n",
    "create_repo(model_hub_id, repo_type=\"model\", exist_ok=True)\n",
    "trainer.push_to_hub(model_hub_id,\n",
    "                  token= userdata.get('HF_TOKEN'))\n"
   ]
  },
  {
   "cell_type": "markdown",
   "metadata": {
    "id": "VjhDEDYMHl_S"
   },
   "source": [
    "## Evaluation\n",
    "\n",
    "Finally, we'll evaluate our fine-tuned model by presenting it with the same 'inheritance' prompt we used in the sanity check. This comparison will reveal how the model's understanding has shifted from a programming context to a legal one.\n",
    "\n",
    "This step demonstrates the power of transfer learning and domain-specific fine-tuning in natural language processing, showing how we can adapt a general-purpose language model to specialized tasks."
   ]
  },
  {
   "cell_type": "code",
   "execution_count": null,
   "metadata": {
    "id": "Byruf-ErUx2X"
   },
   "outputs": [],
   "source": [
    "input_text = \"<|user>What does 'inheritance' mean?\\n<|assistant|>\\n\"\n",
    "inputs = tokenizer(input_text, return_tensors=\"pt\")\n",
    "\n",
    "outputs = model.generate(**inputs, max_new_tokens=100)\n",
    "print(tokenizer.decode(outputs[0], skip_special_tokens=True))"
   ]
  },
  {
   "cell_type": "markdown",
   "metadata": {
    "id": "aXPG2FQzy9z0"
   },
   "source": [
    "### Sample Output\n",
    "\n",
    "```\n",
    "Inheritance refers to the right of a deceased person to inherit property. It is a legal concept that allows the deceased person's estate to be divided among their surviving family members. In the context of real estate, inheritance refers to the right of a deceased person to inherit their property. It is a legal concept that allows the deceased person's estate to be divided among their surviving family members. In the context of real estate, inheritance refers to\n",
    "\n",
    "```"
   ]
  },
  {
   "cell_type": "markdown",
   "metadata": {
    "id": "cxZHIvdbIoNL"
   },
   "source": [
    "## Execution Times and Performance Metrics\n",
    "\n",
    "Throughout this notebook, we've been tracking the time taken for various stages of our process. These execution times provide valuable insights into the computational requirements of fine-tuning a large language model.\n",
    "\n",
    "We'll summarize the time taken for:\n",
    "1. Loading the initial model\n",
    "2. Performing the sanity check\n",
    "3. Setting up the training environment\n",
    "4. The actual training process\n",
    "\n",
    "Understanding these metrics is can be helpful for resource planning in machine learning projects. It helps in estimating the time and computational power needed for similar tasks in the future, and can guide decisions about hardware requirements or potential optimizations.\n",
    "\n",
    "This topic is deep and nuanced, but this can give you an idea of how long your finetuning took on this particular hardware.\n",
    "\n",
    "Additionally, we'll look at the training loss over time, which gives us a quantitative measure of how well our model learned from the legal dataset. This metric helps us gauge the effectiveness of our fine-tuning process."
   ]
  },
  {
   "cell_type": "code",
   "execution_count": null,
   "metadata": {
    "id": "wkbvblKVzLiS"
   },
   "outputs": [],
   "source": [
    "print(f\"Model Load Time: {model_loadtime} seconds\")\n",
    "print(f\"Model Sanity Check Time: {model_check_loadtime} seconds\")\n",
    "print(f\"Training Setup Time: {training_setup_loadtime} seconds\")\n",
    "print(f\"Training Time: {training_time} seconds ({training_time/60} minutes)\")"
   ]
  },
  {
   "cell_type": "markdown",
   "metadata": {
    "id": "gnppnMMK27SR"
   },
   "source": [
    "### Sample Output\n",
    "\n",
    "```\n",
    "Model Load Time: 64.40367837800022 seconds\n",
    "Model Sanity Check Time: 9.231385502000194 seconds\n",
    "Training Setup Time: 4.85179586599952 seconds\n",
    "Training Time: 4826.068798849 seconds (80.43447998081666 minutes)\n",
    "```\n"
   ]
  }
 ],
 "metadata": {
  "accelerator": "GPU",
  "colab": {
   "gpuType": "T4",
   "provenance": [],
   "toc_visible": true
  },
  "kernelspec": {
   "display_name": ".venv",
   "language": "python",
   "name": "python3"
  },
  "language_info": {
   "codemirror_mode": {
    "name": "ipython",
    "version": 3
   },
   "file_extension": ".py",
   "mimetype": "text/x-python",
   "name": "python",
   "nbconvert_exporter": "python",
   "pygments_lexer": "ipython3",
   "version": "3.12.8"
  }
 },
 "nbformat": 4,
 "nbformat_minor": 0
}

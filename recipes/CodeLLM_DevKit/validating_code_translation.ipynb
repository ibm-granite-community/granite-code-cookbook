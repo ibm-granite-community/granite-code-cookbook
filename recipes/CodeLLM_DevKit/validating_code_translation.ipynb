{
 "cells": [
  {
   "cell_type": "markdown",
   "id": "fcac940432e10687",
   "metadata": {
    "collapsed": false,
    "jupyter": {
     "outputs_hidden": false
    }
   },
   "source": [
    "# Using CLDK to validate code translation\n",
    "\n",
    "In this tutorial, we will use [CLDK](https://github.com/IBM/codellm-devkit/tree/main) to translate code and check properties of the translated code. You'll explore some of the benefits of using CLDK to perform quick and easy program analysis for this task. By the end of this tutorial, you will have implemented a simple Java-to-Python code translator that also performs light-weight property checking on the translated code.\n",
    "\n",
    "Specifically, you will learn how to perform the following tasks on a Java application to create LLM prompts for code translation and checking the translated code:\n",
    "\n",
    "1. Create a new instance of the CLDK class.\n",
    "2. Create an analysis object for the target Java application.\n",
    "3. Iterate over all files in the application.\n",
    "4. Iterate over all classes in a file.\n",
    "5. Sanitize the class for prompting the LLM.\n",
    "6. Create treesitter-based Java and Python analysis objects\n",
    "\n",
    "We will write a couple of helper methods to 1) format the LLM instruction for translating a Java class to Python and 2) prompt the LLM via Ollama. We will then use CLDK to analyze the Java code, get context information for translating that code, and finally check the properties of the translated code."
   ]
  },
  {
   "cell_type": "markdown",
   "id": "e9411e761b32fcbc",
   "metadata": {
    "collapsed": false,
    "jupyter": {
     "outputs_hidden": false
    }
   },
   "source": [
    "## Prequisites\n",
    "\n",
    "See the [Code Sumarization](./code_summarization.ipynb) recipe, which describes the prerequisites and set up that are required for this notebook, as well. These prerequisites include Python 3.11 or later, Java 11 or later, Maven 3.9 or later, [Ollama 0.3.4](https://ollama.com/) or later, [Granite code models](https://ollama.com/library/granite-code), a sample Java application (the [Apache Commons CLI](https://github.com/apache/commons-cli), and the CKDK tools."
   ]
  },
  {
   "cell_type": "markdown",
   "id": "3a5d4e6b-ddb9-425e-aed5-0bf9aea78acb",
   "metadata": {
    "collapsed": false,
    "jupyter": {
     "outputs_hidden": false
    }
   },
   "source": [
    "## Translate Java code to Python and build a light-weight property checker (for translation validation)\n",
    "Code translation aims to convert source code from one programming language to another. Given the promising abilities of large language models (LLMs) in code synthesis, researchers are exploring their potential to automate code translation. In our recent work, [presented at ICSE'24](https://dl.acm.org/doi/10.1145/3597503.3639226), we found that LLM-based code translation is very promising. In this example, we will walk through the steps of translating a Java class to Python and checking various properties of translated code (e.g., number of methods, number of fields, formal arguments, etc.) as a simple form of translation validation."
   ]
  },
  {
   "cell_type": "code",
   "execution_count": null,
   "id": "ee6dfbda",
   "metadata": {
    "collapsed": false,
    "jupyter": {
     "outputs_hidden": false
    }
   },
   "outputs": [],
   "source": [
    "!pip install git+https://github.com/IBM/codellm-devkit.git"
   ]
  },
  {
   "cell_type": "markdown",
   "id": "6ebd299f-8028-40ab-a350-bbb9dd0ed33a",
   "metadata": {
    "collapsed": false,
    "jupyter": {
     "outputs_hidden": false
    }
   },
   "source": [
    "#### Step 1: Import the required modules"
   ]
  },
  {
   "cell_type": "code",
   "execution_count": null,
   "id": "47a78f61a53b2b55",
   "metadata": {
    "collapsed": false,
    "jupyter": {
     "outputs_hidden": false
    }
   },
   "outputs": [],
   "source": [
    "from cldk.analysis.python.treesitter import PythonSitter\n",
    "from cldk.analysis.java.treesitter import JavaSitter\n",
    "import ollama\n",
    "from cldk import CLDK\n",
    "from cldk.analysis import AnalysisLevel"
   ]
  },
  {
   "cell_type": "markdown",
   "id": "c6d2f67e1a17cf1",
   "metadata": {
    "collapsed": false,
    "jupyter": {
     "outputs_hidden": false
    }
   },
   "source": [
    "#### Step 2: Define a function for creating the LLM prompt\n",
    "\n",
    "This function instructs the LLM to translate a Java class to Python and includes the body of the Java class after removing all the comments and import statements."
   ]
  },
  {
   "cell_type": "code",
   "execution_count": null,
   "id": "dc1ec56e92e90c15",
   "metadata": {
    "collapsed": false,
    "jupyter": {
     "outputs_hidden": false
    }
   },
   "outputs": [],
   "source": [
    "def format_inst(code, focal_class, language):\n",
    "    \"\"\"\n",
    "    Format the instruction for the given focal method and class.\n",
    "    \"\"\"\n",
    "    inst = f\"Question: Can you translate the Java class `{focal_class}` below to Python and generate under code block (```)?\\n\"\n",
    "\n",
    "    inst += \"\\n\"\n",
    "    inst += f\"```{language}\\n\"\n",
    "    inst += code\n",
    "    inst += \"```\" if code.endswith(\"\\n\") else \"\\n```\"\n",
    "    inst += \"\\n\"\n",
    "    return inst"
   ]
  },
  {
   "cell_type": "markdown",
   "id": "1239041c3315e5e5",
   "metadata": {
    "collapsed": false,
    "jupyter": {
     "outputs_hidden": false
    }
   },
   "source": [
    "#### Step 3: Define a function to call the LLM\n",
    "\n",
    "As before in the [Code Sumarization](./code_summarization.ipynb) recipe, we use Ollama with Granite Code 8b Instruct, which we pull into Ollama, if necessary."
   ]
  },
  {
   "cell_type": "code",
   "execution_count": null,
   "id": "37737df0-018b-4316-bf9a-52c5a270186b",
   "metadata": {},
   "outputs": [],
   "source": [
    "!ollama pull granite-code:8b-instruct"
   ]
  },
  {
   "cell_type": "code",
   "execution_count": null,
   "id": "1c86224032a6eb70",
   "metadata": {
    "collapsed": false,
    "jupyter": {
     "outputs_hidden": false
    }
   },
   "outputs": [],
   "source": [
    "def prompt_ollama(message: str, model_id: str = \"granite-code:8b-instruct\") -> str:\n",
    "    \"\"\"Prompt local model on Ollama\"\"\"\n",
    "    response_object = ollama.generate(model=model_id, prompt=message)\n",
    "    return response_object[\"response\"]"
   ]
  },
  {
   "cell_type": "markdown",
   "id": "518efea0d8c4d307",
   "metadata": {
    "collapsed": false,
    "jupyter": {
     "outputs_hidden": false
    }
   },
   "source": [
    "#### Step 4: Translate a Java class to Python and check two two properties of the translated code\n",
    "\n",
    "The two properties checked are the following:\n",
    "* The number of translated methods\n",
    "* The number of translated fields\n",
    "\n",
    "Since, the Java analysis has been already been run in the other recipes, we don't need to regenerate it."
   ]
  },
  {
   "cell_type": "code",
   "execution_count": null,
   "id": "fe3be3de6790f7b3",
   "metadata": {
    "collapsed": false,
    "jupyter": {
     "outputs_hidden": false
    }
   },
   "outputs": [],
   "source": [
    "# Create an instance of CLDK for Java analysis\n",
    "cldk = CLDK(language=\"java\")\n",
    "\n",
    "# Create an analysis object for the Java application, providing the application path\n",
    "analysis = cldk.analysis(project_path=\"temp/commons-cli-rel-commons-cli-1.7.0\", analysis_level=AnalysisLevel.symbol_table, analysis_json_path='analysis')\n",
    "\n",
    "# For simplicity, we run the code translation on a single class(this filter can be removed to run this code over the entire application)\n",
    "target_class = \"org.apache.commons.cli.GnuParser\"\n",
    "\n",
    "# Go through all the classes in the application\n",
    "for class_name in analysis.get_classes():\n",
    "\n",
    "    if class_name == target_class:\n",
    "        # Get the location of the Java class\n",
    "        class_path = analysis.get_java_file(qualified_class_name=class_name)\n",
    "\n",
    "        # Read the file content\n",
    "        if not class_path:\n",
    "            class_body = \"\"\n",
    "        with open(class_path, \"r\", encoding=\"utf-8\", errors=\"ignore\") as f:\n",
    "            class_body = f.read()\n",
    "\n",
    "        # Sanitize the file content by removing comments\n",
    "        sanitized_class =  JavaSitter().remove_all_comments(source_code=class_body)\n",
    "\n",
    "        # Create prompt for translating sanitized Java class to Python\n",
    "        inst = format_inst(code=sanitized_class, language=\"java\", focal_class=class_name.split(\".\")[-1])\n",
    "\n",
    "        print(f\"Instruction:\\n{inst}\\n\")\n",
    "        print(f\"Translating Java code to Python and it will take few minutes (or even seconds) based on where the model has been hosted. . .\\n\")\n",
    "\n",
    "        # Prompt the local model on Ollama\n",
    "        translated_code = prompt_ollama(message=inst)\n",
    "\n",
    "        # Print translated code\n",
    "        print(f\"Translated Python code: {translated_code}\\n\")\n",
    "\n",
    "        # Create python sitter instance for analyzing translated Python code\n",
    "        py_cldk = PythonSitter()\n",
    "\n",
    "        # Compute methods, function, and field counts for translated code\n",
    "        all_methods = py_cldk.get_all_methods(module=translated_code)\n",
    "        all_functions = py_cldk.get_all_functions(module=translated_code)\n",
    "        all_fields = py_cldk.get_all_fields(module=translated_code)\n",
    "\n",
    "        # Check counts against method and field counts for Java code\n",
    "        if len(all_methods) + len(all_functions) != len(analysis.get_methods_in_class(qualified_class_name=class_name)):\n",
    "            print(f'Number of translated method not matching in class {class_name}')\n",
    "        else:\n",
    "            print(f'Number of translated method in class {class_name} is {len(all_methods)}')\n",
    "        if all_fields is not None:\n",
    "            if len(all_fields) != len(analysis.get_class(qualified_class_name=class_name).field_declarations):\n",
    "                print(f'Number of translated field not matching in class {class_name}')\n",
    "            else:\n",
    "                print(f'Number of translated fields in class {class_name} is {len(all_fields)}')"
   ]
  },
  {
   "cell_type": "markdown",
   "id": "9f73ac93-4d07-48d5-9089-64bbbd49e373",
   "metadata": {},
   "source": [
    "Note that a file [./analysis/analysis.json](./analysis/analysis.json) was created or reused from a previous run, such as the [Code Sumarization](./code_summarization.ipynb) recipe."
   ]
  },
  {
   "cell_type": "markdown",
   "id": "1ed920b7",
   "metadata": {},
   "source": [
    "After the LLM's response is received, you should see the translated Python code for `GnuParser` printed out, similar to the following:\n",
    "\n",
    "```python\n",
    "from org.apache.commons.cli import Parser, Util, Char\n",
    "import re\n",
    "\n",
    "class GnuParser(Parser):\n",
    "    def flatten(self, options, arguments, stopAtNonOption):\n",
    "        tokens = []\n",
    "        eat_the_rest = False\n",
    "        for i in range(len(arguments)):\n",
    "            arg = arguments[i]\n",
    "            if arg == \"--\":\n",
    "                eat_the_rest = True\n",
    "                tokens.append(\"--\")\n",
    "            elif arg == \"-\":\n",
    "                tokens.append(\"-\")\n",
    "            elif re.match(\"^--\", arg):\n",
    "                opt = Util.stripLeadingHyphens(arg)\n",
    "                if options.hasOption(opt):\n",
    "                    tokens.append(arg)\n",
    "                else:\n",
    "                    equal_pos = DefaultParser.indexOfEqual(opt)\n",
    "                    if equal_pos != -1 and options.hasOption(opt[0:equal_pos]):\n",
    "                        tokens.append(arg[:arg.index(\"=\")])\n",
    "                        tokens.append(arg[arg.index(\"=\")+1:])\n",
    "                    elif options.hasOption(arg[0:2]):\n",
    "                        tokens.append(arg[0:2])\n",
    "                        tokens.append(arg[2:])\n",
    "                    else:\n",
    "                        eat_the_rest = stopAtNonOption\n",
    "                        tokens.append(arg)\n",
    "            else:\n",
    "                tokens.append(arg)\n",
    "\n",
    "            if eat_the_rest:\n",
    "                for i in range(i+1, len(arguments)):\n",
    "                    tokens.append(arguments[i])\n",
    "\n",
    "        return tokens\n",
    "```\n"
   ]
  },
  {
   "cell_type": "code",
   "execution_count": null,
   "id": "0fcf1963-3939-41c4-b180-ef62c3592e02",
   "metadata": {},
   "outputs": [],
   "source": []
  }
 ],
 "metadata": {
  "kernelspec": {
   "display_name": "Python 3 (ipykernel)",
   "language": "python",
   "name": "python3"
  },
  "language_info": {
   "codemirror_mode": {
    "name": "ipython",
    "version": 3
   },
   "file_extension": ".py",
   "mimetype": "text/x-python",
   "name": "python",
   "nbconvert_exporter": "python",
   "pygments_lexer": "ipython3",
   "version": "3.11.9"
  }
 },
 "nbformat": 4,
 "nbformat_minor": 5
}

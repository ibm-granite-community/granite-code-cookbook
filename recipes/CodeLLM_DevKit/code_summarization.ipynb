{
 "cells": [
  {
   "cell_type": "markdown",
   "id": "59d05bbe28e62687",
   "metadata": {
    "collapsed": false,
    "jupyter": {
     "outputs_hidden": false
    }
   },
   "source": [
    "# Using CLDK to explain Java methods\n",
    "\n",
    "In this tutorial, we will use [CLDK](https://github.com/IBM/codellm-devkit/tree/main) to generate a summary explaination for a Java method. You will explore some of the benefits of using CLDK to perform quick and easy program analysis and to build an LLM-based code summarizer. By the end of this tutorial, you will have implemented such a tool and generated a summary for a Java method.\n",
    "\n",
    "Specifically, you will learn how to perform the following tasks on Java code to create LLM prompts for code summarization:\n",
    "\n",
    "1. Create a new instance of the `CLDK` class.\n",
    "2. Create an analysis object for the target Java code.\n",
    "3. Iterate over all files in the code.\n",
    "4. Iterate over all classes in a file.\n",
    "5. Initialize `treesitter` utils for the class content.\n",
    "6. Iterate over all methods in a class.\n",
    "7. Get the code body for a method.\n",
    "8. Sanitize the class for prompting the LLM.\n",
    "\n",
    "We will write several helper methods to 1) format the LLM instruction for summarizing a given target method and 2) prompt the LLM via Ollama. We will then use CLDK to go through an application and generate the summary for the target method."
   ]
  },
  {
   "cell_type": "markdown",
   "id": "92896c8ce12b0e9e",
   "metadata": {
    "collapsed": false,
    "jupyter": {
     "outputs_hidden": false
    }
   },
   "source": [
    "## Prerequisites\n",
    "\n",
    "Before we get started, let's make sure you have the following installed:\n",
    "\n",
    "1. Python 3.11 or later (you can use [pyenv](https://github.com/pyenv/pyenv) to install Python)\n",
    "2. Java 11 or later (you can use [SDKMAN!](https://sdkman.io) to install Java)\n",
    "3. Maven 3.9 or later (you can use [SDKMAN!](https://sdkman.io) to install maven)\n",
    "4. [Ollama 0.3.4](https://ollama.com/) or later.\n",
    "5. [Granite code models](https://ollama.com/library/granite-code), which will serve as our LLM for this tutorial.\n",
    "\n",
    "See the [Coding_Assistant_in_VSCode](../Coding_Assistant_in_VSCode/Coding_Assistant_in_VSCode.ipynb) recipe for instructions on setting up Ollama and installing the Granite models."
   ]
  },
  {
   "cell_type": "markdown",
   "id": "531205b489bbec73",
   "metadata": {
    "collapsed": false,
    "jupyter": {
     "outputs_hidden": false
    }
   },
   "source": [
    "### Install Ollama Python SDK\n",
    "\n",
    "We also need the Python API for Ollama and the CLDK toolkit."
   ]
  },
  {
   "cell_type": "code",
   "execution_count": null,
   "id": "e2a749932a800c9d",
   "metadata": {
    "ExecuteTime": {
     "end_time": "2024-09-11T12:48:05.109808Z",
     "start_time": "2024-09-11T12:48:04.295444Z"
    },
    "collapsed": false,
    "jupyter": {
     "outputs_hidden": false
    },
    "scrolled": true
   },
   "outputs": [],
   "source": [
    "!pip install ollama"
   ]
  },
  {
   "cell_type": "markdown",
   "id": "6f42dbd286b3f7a6",
   "metadata": {
    "collapsed": false,
    "jupyter": {
     "outputs_hidden": false
    }
   },
   "source": [
    "### Install CLDK\n",
    "CLDK is avaliable at https://github.com/IBM/codellm-devkit. You can install it by running the following command:"
   ]
  },
  {
   "cell_type": "code",
   "execution_count": null,
   "id": "327e212f20a489d6",
   "metadata": {
    "ExecuteTime": {
     "end_time": "2024-09-11T12:57:23.940914Z",
     "start_time": "2024-09-11T12:57:16.343801Z"
    },
    "collapsed": false,
    "jupyter": {
     "outputs_hidden": false
    },
    "scrolled": true
   },
   "outputs": [],
   "source": [
    "!pip install git+https://github.com/IBM/codellm-devkit.git"
   ]
  },
  {
   "cell_type": "markdown",
   "id": "dd8ec5b9c837898f",
   "metadata": {
    "collapsed": false,
    "jupyter": {
     "outputs_hidden": false
    }
   },
   "source": [
    "## Analyze and Summarize Java Code\n",
    "\n",
    "First we get the sample Java code, then we will use CLDK to analyze and summarize it.\n",
    "\n",
    "### Get the Sample Java Code\n",
    "For this tutorial, we will use [Apache Commons CLI](https://github.com/apache/commons-cli) as the sample Java code. You can download the source code to a temporary directory by running the following commands:"
   ]
  },
  {
   "cell_type": "code",
   "execution_count": null,
   "id": "c196e58b3ce90c34",
   "metadata": {
    "ExecuteTime": {
     "end_time": "2024-09-11T13:00:01.098902Z",
     "start_time": "2024-09-11T13:00:01.049985Z"
    },
    "collapsed": false,
    "jupyter": {
     "outputs_hidden": false
    },
    "scrolled": true
   },
   "outputs": [],
   "source": [
    "%%bash\n",
    "COMMONS=commons-cli-1.7.0\n",
    "test -d temp || ( \\\n",
    "  mkdir -p temp && \\\n",
    "  cd temp && \\\n",
    "  wget https://github.com/apache/commons-cli/archive/refs/tags/rel/$COMMONS.zip -O $COMMONS.zip && \\\n",
    "  unzip -o $COMMONS.zip && \\\n",
    "  rm -f $COMMONS.zip && \\\n",
    "  cd - \\\n",
    ") && ls -l temp/"
   ]
  },
  {
   "cell_type": "markdown",
   "id": "44e875e7ce6db504",
   "metadata": {
    "collapsed": false,
    "jupyter": {
     "outputs_hidden": false
    }
   },
   "source": [
    "You should see `commons-cli-rel-commons-cli-1.7.0` in `temp`."
   ]
  },
  {
   "cell_type": "markdown",
   "id": "6ad70b81e8957fc0",
   "metadata": {
    "collapsed": false,
    "jupyter": {
     "outputs_hidden": false
    }
   },
   "source": [
    "### Generate the Code Summary\n",
    "\n",
    "Code summarization or code explanation is the task of converting code written in a programming language to natural language. It has several benefits, such as understanding code without looking at its details, documenting code for better maintenance, etc. To perform code summarization, one needs to understand the basic details of the code implementation, and use that knowledge to generate the summary using various AI-based approaches. Here, we use LLMs, specifically Granite Code 83 Instruct. We will show how a developer can easily use CLDK to analyze code by calling various APIs without having to implement analyses with lower-level tools."
   ]
  },
  {
   "cell_type": "markdown",
   "id": "15555404790e1411",
   "metadata": {
    "collapsed": false,
    "jupyter": {
     "outputs_hidden": false
    }
   },
   "source": [
    "#### Step 1: Add the neccessary imports"
   ]
  },
  {
   "cell_type": "code",
   "execution_count": null,
   "id": "8e8e5de7e5c68020",
   "metadata": {
    "ExecuteTime": {
     "end_time": "2024-09-11T13:00:06.366662Z",
     "start_time": "2024-09-11T13:00:05.799867Z"
    },
    "collapsed": false,
    "jupyter": {
     "outputs_hidden": false
    }
   },
   "outputs": [],
   "source": [
    "import ollama\n",
    "from cldk import CLDK\n",
    "from cldk.analysis import AnalysisLevel"
   ]
  },
  {
   "cell_type": "markdown",
   "id": "ffc4ee9a6d27acc2",
   "metadata": {
    "collapsed": false,
    "jupyter": {
     "outputs_hidden": false
    }
   },
   "source": [
    "#### Step 2: Define a function for creating the LLM prompt\n",
    "\n",
    "This function instructs the LLM to summarize a Java method and includes relevant code for the task."
   ]
  },
  {
   "cell_type": "code",
   "execution_count": null,
   "id": "9e23523c71636727",
   "metadata": {
    "ExecuteTime": {
     "end_time": "2024-09-11T13:00:10.328156Z",
     "start_time": "2024-09-11T13:00:10.317415Z"
    },
    "collapsed": false,
    "jupyter": {
     "outputs_hidden": false
    }
   },
   "outputs": [],
   "source": [
    "def format_inst(code, focal_method, focal_class, language):\n",
    "    \"\"\"\n",
    "    Format the instruction for the given focal method and class.\n",
    "    \"\"\"\n",
    "    inst = f\"Question: Can you write a brief summary for the method `{focal_method}` in the class `{focal_class}` below?\\n\"\n",
    "\n",
    "    inst += \"\\n\"\n",
    "    inst += f\"```{language}\\n\"\n",
    "    inst += code\n",
    "    inst += \"```\" if code.endswith(\"\\n\") else \"\\n```\"\n",
    "    inst += \"\\n\"\n",
    "    return inst"
   ]
  },
  {
   "cell_type": "markdown",
   "id": "dd8439be222b5caa",
   "metadata": {
    "collapsed": false,
    "jupyter": {
     "outputs_hidden": false
    }
   },
   "source": [
    "#### Step 3: Define a function to call the LLM\n",
    "\n",
    "In this case, Granite Code Instruct model, invoked using Ollama."
   ]
  },
  {
   "cell_type": "code",
   "execution_count": null,
   "id": "62807e0cbf985ae6",
   "metadata": {
    "ExecuteTime": {
     "end_time": "2024-09-11T13:00:18.326854Z",
     "start_time": "2024-09-11T13:00:18.279833Z"
    },
    "collapsed": false,
    "jupyter": {
     "outputs_hidden": false
    }
   },
   "outputs": [],
   "source": [
    "def prompt_ollama(message: str, model_id: str = \"granite-code:3b\") -> str:\n",
    "    \"\"\"Prompt local model on Ollama\"\"\"\n",
    "    response_object = ollama.generate(model=model_id, prompt=message, options={\"temperature\":0.2})\n",
    "    return response_object[\"response\"]"
   ]
  },
  {
   "cell_type": "markdown",
   "id": "1022e86e38e12767",
   "metadata": {
    "collapsed": false,
    "jupyter": {
     "outputs_hidden": false
    }
   },
   "source": [
    "#### Step 4: Create an instance of CLDK, specifying the programming language of the source code\n",
    "\n",
    "Java in this case."
   ]
  },
  {
   "cell_type": "code",
   "execution_count": null,
   "id": "a2c8bbe4e3244f60",
   "metadata": {
    "ExecuteTime": {
     "end_time": "2024-09-11T13:00:20.875535Z",
     "start_time": "2024-09-11T13:00:20.863415Z"
    },
    "collapsed": false,
    "jupyter": {
     "outputs_hidden": false
    }
   },
   "outputs": [],
   "source": [
    "cldk = CLDK(language=\"java\")"
   ]
  },
  {
   "cell_type": "markdown",
   "id": "23dd4a6e5d5cb0c5",
   "metadata": {
    "collapsed": false,
    "jupyter": {
     "outputs_hidden": false
    }
   },
   "source": [
    "#### Step 5: Select the analysis engine and analysis level\n",
    "\n",
    "CLDK uses different analysis engines---[CodeAnalyzer](https://github.com/IBM/codenet-minerva-code-analyzer) (built over [WALA](https://github.com/wala/WALA) and [JavaParser](https://github.com/javaparser/javaparser)), [Treesitter](https://tree-sitter.github.io/tree-sitter/), and [CodeQL](https://codeql.github.com/) (future). CodeAnalyzer is the default analysis engine. CLDK supports different analysis levels: 1) symbol table, 2) call graph, 3) program dependency graph, and 4) system dependency graph. The analysis level can be selected using the `AnalysisLevel` enumerated type. For this example, we select the symbol-table analysis level, with CodeAnalyzer as the default analysis engine.\n",
    "\n",
    "> **NOTE:** If the next cell throws an error `CalledProcessError`, make sure you have a working Java installation! See the **Prerequisites** above."
   ]
  },
  {
   "cell_type": "code",
   "execution_count": null,
   "id": "fdd09f5e77d4a68a",
   "metadata": {
    "ExecuteTime": {
     "end_time": "2024-09-11T13:00:40.003937Z",
     "start_time": "2024-09-11T13:00:26.170775Z"
    },
    "collapsed": false,
    "jupyter": {
     "outputs_hidden": false
    }
   },
   "outputs": [],
   "source": [
    "# Create an analysis object for the Java application\n",
    "analysis = cldk.analysis(project_path=\"temp/commons-cli-rel-commons-cli-1.7.0\", analysis_level=AnalysisLevel.symbol_table, analysis_json_path='analysis')"
   ]
  },
  {
   "cell_type": "markdown",
   "id": "d8fa2cda-61b5-4491-9c01-ee50431c8ad7",
   "metadata": {},
   "source": [
    "Note that a file [./analysis/analysis.json](./analysis/analysis.json) was created. This file will be used in the other notebooks, too!"
   ]
  },
  {
   "cell_type": "markdown",
   "id": "f148325e92781e13",
   "metadata": {
    "collapsed": false,
    "jupyter": {
     "outputs_hidden": false
    }
   },
   "source": [
    "#### Step 6: Iterate over all the class files and create the prompt\n",
    "\n",
    "In this case, we want to provide a sanitized Java class in the prompt, containing only the relevant information for summarizing the target method. To illustrate, consider the floowing class:\n",
    "\n",
    "```java\n",
    "package com.ibm.org;\n",
    "import A.B.C.D;\n",
    "...\n",
    "public class Foo {\n",
    " // code comment\n",
    " public void bar(){\n",
    "    int a;\n",
    "    a = baz();\n",
    "    // do something\n",
    "    }\n",
    " private int baz()\n",
    " {\n",
    "    // do something\n",
    " }\n",
    " public String dummy (String a)\n",
    " {\n",
    "    // do somthing\n",
    " }\n",
    "```\n",
    "Let's say we want to generate a summary for method `bar`. To understand what it does, we add the callees of this method in the prompt, which in this case includes `baz`. We remove the other methods, imports, comments, etc. All of this can be achieved with a single call to CLDK's `sanitize_focal_class` API. In this process, we also use Treesitter to analyze the code.  After creating the sanitized code, we call the previously defined `format_inst` method to create the LLM prompt and pass the prompt to `prompt_ollama` to generate the method summary."
   ]
  },
  {
   "cell_type": "code",
   "execution_count": null,
   "id": "462ef7dceae367ad",
   "metadata": {
    "collapsed": false,
    "jupyter": {
     "outputs_hidden": false
    },
    "pycharm": {
     "is_executing": true
    }
   },
   "outputs": [],
   "source": [
    "# For simplicity, we run the code summarization on a single class and method\n",
    "# (this filter can be removed to run this code over the entire application)\n",
    "target_class = \"org.apache.commons.cli.GnuParser\"\n",
    "target_method = \"flatten(Options, String[], boolean)\"\n",
    "\n",
    "# Iterate over all classes in the application\n",
    "for class_name in analysis.get_classes():\n",
    "    if class_name == target_class:\n",
    "        print(f\"Class: {class_name}\")\n",
    "        class_file_path = analysis.get_java_file(qualified_class_name=class_name)\n",
    "\n",
    "        # Read code for the class\n",
    "        with open(class_file_path, \"r\") as f:\n",
    "            code_body = f.read()\n",
    "\n",
    "        # Initialize treesitter utils for the class file content\n",
    "        tree_sitter_utils = cldk.tree_sitter_utils(source_code=code_body)\n",
    "\n",
    "        # Iterate over all methods in class\n",
    "        for method in analysis.get_methods_in_class(qualified_class_name=class_name):\n",
    "            if method == target_method:\n",
    "\n",
    "                # Get all the method details\n",
    "                method_details = analysis.get_method(qualified_class_name=class_name,\n",
    "                                                     qualified_method_name=method)\n",
    "\n",
    "                # Sanitize the class for analysis with respect to the target method\n",
    "                sanitized_class = tree_sitter_utils.sanitize_focal_class(method_details.declaration)\n",
    "\n",
    "                # Format the instruction for the given target method and class\n",
    "                instruction = format_inst(\n",
    "                    code=sanitized_class,\n",
    "                    focal_method=method_details.declaration,\n",
    "                    focal_class=class_name.split(\".\")[-1],\n",
    "                    language=\"java\"\n",
    "                )\n",
    "\n",
    "                print(f\"Instruction:\\n{instruction}\\n\")\n",
    "                print(f\"Generating code summary and it will take few minutes (or even seconds) based on where the model has been hosted...\\n\")\n",
    "\n",
    "                # Prompt the local model on Ollama\n",
    "                llm_output = prompt_ollama(message=instruction)\n",
    "\n",
    "                # Print the LLM output\n",
    "                print(f\"LLM Output:\\n{llm_output}\")"
   ]
  },
  {
   "cell_type": "markdown",
   "id": "ff0f2e54",
   "metadata": {},
   "source": [
    "After the LLM's response is received, you should see the generated summary of the `flatten` method printed out (similar to the following text).\n",
    "\n",
    "\n",
    "**LLM Output:**\n",
    "Sure! The method `protected String[] flatten(final Options options, final String[] arguments, final boolean stopAtNonOption)` in the class `GnuParser` is responsible for parsing command-line arguments according to the GNU convention. It takes three parameters: `options`, which represents a collection of valid command-line options; `arguments`, which is an array of strings representing the command-line arguments to be parsed; and `stopAtNonOption`, which determines whether to stop processing arguments once a non-option argument is encountered.\n",
    "\n",
    "The method iterates through each argument in the `arguments` array and performs various checks based on the argument's format. If the argument starts with \"--\", it adds the entire argument to the `tokens` list. If the argument is \"-\", it adds \"-\" to the `tokens` list. If the argument starts with a hyphen but does not match any known option, it determines whether to stop processing arguments or add the argument to the `tokens` list based on the value of `stopAtNonOption`.\n",
    "\n",
    "If an argument matches a known option, it is added to the `tokens` list along with its associated value (if applicable). The method also handles cases where the argument appears in a different format, such as \"-Dproperty=value\" or \"--option=value\".\n",
    "\n",
    "Finally, the method returns the `tokens` list as an array of strings.\n"
   ]
  }
 ],
 "metadata": {
  "kernelspec": {
   "display_name": "Python 3 (ipykernel)",
   "language": "python",
   "name": "python3"
  },
  "language_info": {
   "codemirror_mode": {
    "name": "ipython",
    "version": 3
   },
   "file_extension": ".py",
   "mimetype": "text/x-python",
   "name": "python",
   "nbconvert_exporter": "python",
   "pygments_lexer": "ipython3",
   "version": "3.11.9"
  }
 },
 "nbformat": 4,
 "nbformat_minor": 5
}

{
 "cells": [
  {
   "cell_type": "markdown",
   "id": "ef357b38",
   "metadata": {},
   "source": [
    "# OpenAPI Specification Generator"
   ]
  },
  {
   "cell_type": "markdown",
   "id": "87b5ec06",
   "metadata": {},
   "source": [
    "## Introduction\n",
    "This notebook demonstrates how to generate an OpenAPI specification from a text description using specific deployments hosted on Replicate. \n"
   ]
  },
  {
   "cell_type": "markdown",
   "id": "2d7a2138",
   "metadata": {},
   "source": [
    "### Prerequisite: Environment Setup and Package Installation\n",
    "1. Ensure Python is installed on your system.\n",
    "2. Install necessary Python packages using pip:\n",
    "   ```bash\n",
    "   pip install git+https://github.com/ibm-granite-community/utils\n",
    "   ```\n",
    "3. Configure environment variables to securely store API tokens. Create a `.env` file in the same directory as this notebook and add the following line:\n",
    "   ```plaintext\n",
    "   REPLICATE_API_TOKEN='your_replicate_api_token_here'"
   ]
  },
  {
   "cell_type": "code",
   "execution_count": 6,
   "id": "21c63172",
   "metadata": {},
   "outputs": [
    {
     "name": "stdout",
     "output_type": "stream",
     "text": [
      "Collecting git+https://github.com/ibm-granite-community/utils\n",
      "  Cloning https://github.com/ibm-granite-community/utils to c:\\users\\parvathyrajeev\\appdata\\local\\temp\\pip-req-build-9fomp9fy\n",
      "  Resolved https://github.com/ibm-granite-community/utils to commit bc18a5c8b8f3d645032ec765f9d3415e359c87e0\n",
      "  Installing build dependencies: started\n",
      "  Installing build dependencies: finished with status 'done'\n",
      "  Getting requirements to build wheel: started\n",
      "  Getting requirements to build wheel: finished with status 'done'\n",
      "  Preparing metadata (pyproject.toml): started\n",
      "  Preparing metadata (pyproject.toml): finished with status 'done'\n",
      "Requirement already satisfied: python-dotenv in c:\\python312\\lib\\site-packages (from ibm_granite_community==0.1.0) (1.0.1)\n",
      "Requirement already satisfied: langchain-community<0.3.0 in c:\\python312\\lib\\site-packages (from ibm_granite_community==0.1.0) (0.2.13)\n",
      "Requirement already satisfied: langchain-ollama<0.2.0 in c:\\python312\\lib\\site-packages (from ibm_granite_community==0.1.0) (0.1.3)\n",
      "Requirement already satisfied: replicate in c:\\python312\\lib\\site-packages (from ibm_granite_community==0.1.0) (0.31.0)\n",
      "Requirement already satisfied: PyYAML>=5.3 in c:\\python312\\lib\\site-packages (from langchain-community<0.3.0->ibm_granite_community==0.1.0) (6.0.1)\n",
      "Requirement already satisfied: SQLAlchemy<3,>=1.4 in c:\\python312\\lib\\site-packages (from langchain-community<0.3.0->ibm_granite_community==0.1.0) (2.0.1)\n",
      "Requirement already satisfied: aiohttp<4.0.0,>=3.8.3 in c:\\python312\\lib\\site-packages (from langchain-community<0.3.0->ibm_granite_community==0.1.0) (3.9.3)\n",
      "Requirement already satisfied: dataclasses-json<0.7,>=0.5.7 in c:\\python312\\lib\\site-packages (from langchain-community<0.3.0->ibm_granite_community==0.1.0) (0.6.4)\n",
      "Requirement already satisfied: langchain<0.3.0,>=0.2.15 in c:\\python312\\lib\\site-packages (from langchain-community<0.3.0->ibm_granite_community==0.1.0) (0.2.15)\n",
      "Requirement already satisfied: langchain-core<0.3.0,>=0.2.35 in c:\\python312\\lib\\site-packages (from langchain-community<0.3.0->ibm_granite_community==0.1.0) (0.2.40)\n",
      "Requirement already satisfied: langsmith<0.2.0,>=0.1.0 in c:\\python312\\lib\\site-packages (from langchain-community<0.3.0->ibm_granite_community==0.1.0) (0.1.121)\n",
      "Requirement already satisfied: numpy<2.0.0,>=1.26.0 in c:\\python312\\lib\\site-packages (from langchain-community<0.3.0->ibm_granite_community==0.1.0) (1.26.4)\n",
      "Requirement already satisfied: requests<3,>=2 in c:\\python312\\lib\\site-packages (from langchain-community<0.3.0->ibm_granite_community==0.1.0) (2.31.0)\n",
      "Requirement already satisfied: tenacity!=8.4.0,<9.0.0,>=8.1.0 in c:\\python312\\lib\\site-packages (from langchain-community<0.3.0->ibm_granite_community==0.1.0) (8.2.3)\n",
      "Requirement already satisfied: ollama<1,>=0.3.0 in c:\\python312\\lib\\site-packages (from langchain-ollama<0.2.0->ibm_granite_community==0.1.0) (0.3.3)\n",
      "Requirement already satisfied: httpx<1,>=0.21.0 in c:\\python312\\lib\\site-packages (from replicate->ibm_granite_community==0.1.0) (0.27.0)\n",
      "Requirement already satisfied: packaging in c:\\python312\\lib\\site-packages (from replicate->ibm_granite_community==0.1.0) (23.2)\n",
      "Requirement already satisfied: pydantic>1.10.7 in c:\\python312\\lib\\site-packages (from replicate->ibm_granite_community==0.1.0) (2.7.0)\n",
      "Requirement already satisfied: typing-extensions>=4.5.0 in c:\\python312\\lib\\site-packages (from replicate->ibm_granite_community==0.1.0) (4.10.0)\n",
      "Requirement already satisfied: aiosignal>=1.1.2 in c:\\python312\\lib\\site-packages (from aiohttp<4.0.0,>=3.8.3->langchain-community<0.3.0->ibm_granite_community==0.1.0) (1.3.1)\n",
      "Requirement already satisfied: attrs>=17.3.0 in c:\\python312\\lib\\site-packages (from aiohttp<4.0.0,>=3.8.3->langchain-community<0.3.0->ibm_granite_community==0.1.0) (23.2.0)\n",
      "Requirement already satisfied: frozenlist>=1.1.1 in c:\\python312\\lib\\site-packages (from aiohttp<4.0.0,>=3.8.3->langchain-community<0.3.0->ibm_granite_community==0.1.0) (1.4.1)\n",
      "Requirement already satisfied: multidict<7.0,>=4.5 in c:\\python312\\lib\\site-packages (from aiohttp<4.0.0,>=3.8.3->langchain-community<0.3.0->ibm_granite_community==0.1.0) (6.0.5)\n",
      "Requirement already satisfied: yarl<2.0,>=1.0 in c:\\python312\\lib\\site-packages (from aiohttp<4.0.0,>=3.8.3->langchain-community<0.3.0->ibm_granite_community==0.1.0) (1.9.4)\n",
      "Requirement already satisfied: marshmallow<4.0.0,>=3.18.0 in c:\\python312\\lib\\site-packages (from dataclasses-json<0.7,>=0.5.7->langchain-community<0.3.0->ibm_granite_community==0.1.0) (3.21.1)\n",
      "Requirement already satisfied: typing-inspect<1,>=0.4.0 in c:\\python312\\lib\\site-packages (from dataclasses-json<0.7,>=0.5.7->langchain-community<0.3.0->ibm_granite_community==0.1.0) (0.9.0)\n",
      "Requirement already satisfied: anyio in c:\\python312\\lib\\site-packages (from httpx<1,>=0.21.0->replicate->ibm_granite_community==0.1.0) (4.3.0)\n",
      "Requirement already satisfied: certifi in c:\\python312\\lib\\site-packages (from httpx<1,>=0.21.0->replicate->ibm_granite_community==0.1.0) (2024.2.2)\n",
      "Requirement already satisfied: httpcore==1.* in c:\\python312\\lib\\site-packages (from httpx<1,>=0.21.0->replicate->ibm_granite_community==0.1.0) (1.0.5)\n",
      "Requirement already satisfied: idna in c:\\python312\\lib\\site-packages (from httpx<1,>=0.21.0->replicate->ibm_granite_community==0.1.0) (3.6)\n",
      "Requirement already satisfied: sniffio in c:\\python312\\lib\\site-packages (from httpx<1,>=0.21.0->replicate->ibm_granite_community==0.1.0) (1.3.1)\n",
      "Requirement already satisfied: h11<0.15,>=0.13 in c:\\python312\\lib\\site-packages (from httpcore==1.*->httpx<1,>=0.21.0->replicate->ibm_granite_community==0.1.0) (0.14.0)\n",
      "Requirement already satisfied: langchain-text-splitters<0.3.0,>=0.2.0 in c:\\python312\\lib\\site-packages (from langchain<0.3.0,>=0.2.15->langchain-community<0.3.0->ibm_granite_community==0.1.0) (0.2.1)\n",
      "Requirement already satisfied: jsonpatch<2.0,>=1.33 in c:\\python312\\lib\\site-packages (from langchain-core<0.3.0,>=0.2.35->langchain-community<0.3.0->ibm_granite_community==0.1.0) (1.33)\n",
      "Requirement already satisfied: orjson<4.0.0,>=3.9.14 in c:\\python312\\lib\\site-packages (from langsmith<0.2.0,>=0.1.0->langchain-community<0.3.0->ibm_granite_community==0.1.0) (3.10.0)\n",
      "Requirement already satisfied: annotated-types>=0.4.0 in c:\\python312\\lib\\site-packages (from pydantic>1.10.7->replicate->ibm_granite_community==0.1.0) (0.6.0)\n",
      "Requirement already satisfied: pydantic-core==2.18.1 in c:\\python312\\lib\\site-packages (from pydantic>1.10.7->replicate->ibm_granite_community==0.1.0) (2.18.1)\n",
      "Requirement already satisfied: charset-normalizer<4,>=2 in c:\\python312\\lib\\site-packages (from requests<3,>=2->langchain-community<0.3.0->ibm_granite_community==0.1.0) (3.3.2)\n",
      "Requirement already satisfied: urllib3<3,>=1.21.1 in c:\\python312\\lib\\site-packages (from requests<3,>=2->langchain-community<0.3.0->ibm_granite_community==0.1.0) (2.1.0)\n",
      "Requirement already satisfied: greenlet!=0.4.17 in c:\\python312\\lib\\site-packages (from SQLAlchemy<3,>=1.4->langchain-community<0.3.0->ibm_granite_community==0.1.0) (3.0.3)\n",
      "Requirement already satisfied: jsonpointer>=1.9 in c:\\python312\\lib\\site-packages (from jsonpatch<2.0,>=1.33->langchain-core<0.3.0,>=0.2.35->langchain-community<0.3.0->ibm_granite_community==0.1.0) (2.4)\n",
      "Requirement already satisfied: mypy-extensions>=0.3.0 in c:\\python312\\lib\\site-packages (from typing-inspect<1,>=0.4.0->dataclasses-json<0.7,>=0.5.7->langchain-community<0.3.0->ibm_granite_community==0.1.0) (1.0.0)\n"
     ]
    },
    {
     "name": "stderr",
     "output_type": "stream",
     "text": [
      "  Running command git clone --filter=blob:none --quiet https://github.com/ibm-granite-community/utils 'C:\\Users\\ParvathyRajeev\\AppData\\Local\\Temp\\pip-req-build-9fomp9fy'\n",
      "\n",
      "[notice] A new release of pip is available: 24.0 -> 24.2\n",
      "[notice] To update, run: python.exe -m pip install --upgrade pip\n"
     ]
    }
   ],
   "source": [
    "!pip install git+https://github.com/ibm-granite-community/utils"
   ]
  },
  {
   "cell_type": "markdown",
   "id": "59bc4b6e",
   "metadata": {},
   "source": [
    "### Environment Setup\n",
    "This cell handles the initial setup required to run the notebook effectively:\n",
    "- `import os`: Imports the OS library to interact with the operating system, such as reading environment variables.\n",
    "- `import replicate`: Imports the Replicate library which enables interaction with the Replicate API for deploying models.\n",
    "- `from dotenv import load_dotenv`: Imports the function to load environment variables from a `.env` file located in the same directory as this notebook.\n",
    "- `load_dotenv()`: Executes the function to load the environment variables.\n",
    " - It checks if the `REPLICATE_API_TOKEN` environment variable is successfully loaded and prints a confirmation or error message accordingly.\n",
    "- `from ibm_granite_community.langchain_utils import find_langchain_model`: The find_langchain_model function imports the replicate package"
   ]
  },
  {
   "cell_type": "code",
   "execution_count": 7,
   "id": "f306d66b",
   "metadata": {},
   "outputs": [
    {
     "name": "stdout",
     "output_type": "stream",
     "text": [
      "API token loaded successfully.\n"
     ]
    }
   ],
   "source": [
    "import os\n",
    "import replicate\n",
    "from dotenv import load_dotenv\n",
    "from ibm_granite_community.langchain_utils import find_langchain_model\n",
    "\n",
    "# Load environment variables from the .env file\n",
    "load_dotenv()\n",
    "\n",
    "# Retrieve the API token from environment variables\n",
    "replicate_api_token = os.getenv('REPLICATE_API_TOKEN')\n",
    "if replicate_api_token:\n",
    "    print('API token loaded successfully.')\n",
    "else:\n",
    "    print('Failed to load API token. Please check your .env file.')"
   ]
  },
  {
   "cell_type": "markdown",
   "id": "66a77d04",
   "metadata": {},
   "source": [
    "### Model Selection\n",
    "In this section, we specify the model ID used to invoke specific models from IBM Granite on the Replicate platform. Depending on the model's capacity and the task complexity, you can choose between models with different instruction capacities like `8b` or `20b`.\n"
   ]
  },
  {
   "cell_type": "code",
   "execution_count": 8,
   "id": "3d61457e",
   "metadata": {},
   "outputs": [],
   "source": [
    "\n",
    "# Model ID options for invoking specific models\n",
    "model_id = \"ibm-granite/granite-8b-code-instruct-128k\"\n",
    "# model_id = \"ibm-granite/granite-20b-code-instruct-8k\""
   ]
  },
  {
   "cell_type": "markdown",
   "id": "10d94ae4",
   "metadata": {},
   "source": [
    "### Model Retrieval\n",
    "\n",
    "Here, we retrieve the model using the find_langchain_model function. This function is designed to locate and initialize models based on the platform (\"Replicate\") and the specified model_id."
   ]
  },
  {
   "cell_type": "code",
   "execution_count": 9,
   "id": "9b463418",
   "metadata": {},
   "outputs": [],
   "source": [
    "# Find the model via replicate platform\n",
    "granite_via_replicate = find_langchain_model(platform=\"Replicate\", model_id=model_id)"
   ]
  },
  {
   "cell_type": "markdown",
   "id": "d04a836d",
   "metadata": {},
   "source": [
    "### OpenAPI Specification Generation\n",
    "\n",
    "This section sets up a text description for the API, which details the functionality of a Blog API. It supports operations such as creating, retrieving, updating, and deleting blog posts, along with user authentication. The text is used as input to generate an OpenAPI specification."
   ]
  },
  {
   "cell_type": "code",
   "execution_count": 10,
   "id": "f0b56fc0",
   "metadata": {},
   "outputs": [],
   "source": [
    "api_description = '''\n",
    "The Blog API allows users to interact with blog posts. It supports operations to create, retrieve, update, and delete posts.\n",
    "Users can also comment on posts. Authentication is required for creating, updating, and deleting posts. The API returns data in JSON format.\n",
    "Generate an Open API specification for this requirement.\n",
    "'''"
   ]
  },
  {
   "cell_type": "markdown",
   "id": "69890600",
   "metadata": {},
   "source": [
    "### Performing Inference\n",
    "\n",
    "After setting up the model and the API description, we perform inference by invoking the model with the API description. The response from this inference is then printed out."
   ]
  },
  {
   "cell_type": "code",
   "execution_count": 11,
   "id": "6490f2ad",
   "metadata": {},
   "outputs": [
    {
     "name": "stdout",
     "output_type": "stream",
     "text": [
      "Granite response from Replicate: openapi: 3.0.0\n",
      "info:\n",
      " title: Blog API\n",
      " description: The Blog API allows users to interact with blog posts. It supports operations to create, retrieve, update, and delete posts. Users can also comment on posts. Authentication is required for creating, updating, and deleting posts. The API returns data in JSON format.\n",
      " version: 1.0.0\n",
      "servers:\n",
      " - url: https://blog-api.com/v1\n",
      " paths:\n",
      " /posts:\n",
      " post:\n",
      " summary: Create a new post\n",
      " description: Create a new post\n",
      " requestBody:\n",
      " content:\n",
      " application/json:\n",
      " schema:\n",
      " $ref: '#/components/schemas/Post'\n",
      " responses:\n",
      " '201':\n",
      " description: Created\n",
      " headers:\n",
      " Location:\n",
      " schema:\n",
      " type: string\n",
      " '401':\n",
      " description: Unauthenticated\n",
      " '403':\n",
      " description: Forbidden\n",
      " '404':\n",
      " description: Not Found\n",
      " '422':\n",
      " description: Unprocessable Entity\n",
      " components:\n",
      " schemas:\n",
      " Post:\n",
      " type: object\n",
      " properties:\n",
      " title:\n",
      " type: string\n",
      " description: The title of the post\n",
      " content:\n",
      " type: string\n",
      " description: The content of the post\n",
      " comments:\n",
      " type: array\n",
      " items:\n",
      " $ref: '#/components/schemas/Comment'\n",
      " Comment:\n",
      " type: object\n",
      " properties:\n",
      " content:\n",
      " type: string\n",
      " description: The content of the comment\n",
      " author:\n",
      " type: string\n",
      " description: The author of the comment\n",
      " security:\n",
      " - bearerAuth: []\n",
      " components:\n",
      " securitySchemes:\n",
      " bearerAuth:\n",
      " type: http\n",
      " scheme: bearer\n",
      " bearerFormat: JWT\n",
      "\n"
     ]
    }
   ],
   "source": [
    "# Perform Inference\n",
    "replicate_response = granite_via_replicate.invoke(api_description)\n",
    "print(f\"Granite response from Replicate: {replicate_response}\")"
   ]
  }
 ],
 "metadata": {
  "kernelspec": {
   "display_name": "Python 3",
   "language": "python",
   "name": "python3"
  },
  "language_info": {
   "codemirror_mode": {
    "name": "ipython",
    "version": 3
   },
   "file_extension": ".py",
   "mimetype": "text/x-python",
   "name": "python",
   "nbconvert_exporter": "python",
   "pygments_lexer": "ipython3",
   "version": "3.12.2"
  }
 },
 "nbformat": 4,
 "nbformat_minor": 5
}

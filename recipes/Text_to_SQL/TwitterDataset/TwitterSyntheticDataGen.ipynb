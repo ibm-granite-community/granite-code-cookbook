{
 "cells": [
  {
   "cell_type": "code",
   "execution_count": 1,
   "metadata": {},
   "outputs": [
    {
     "name": "stdout",
     "output_type": "stream",
     "text": [
      "Collecting pandas\n",
      "  Downloading pandas-2.2.3-cp312-cp312-macosx_11_0_arm64.whl.metadata (89 kB)\n",
      "Requirement already satisfied: numpy>=1.26.0 in /Users/pravinkedia/Downloads/LatestCookBook/granite-code-cookbook/.venv/lib/python3.12/site-packages (from pandas) (1.26.4)\n",
      "Requirement already satisfied: python-dateutil>=2.8.2 in /Users/pravinkedia/Downloads/LatestCookBook/granite-code-cookbook/.venv/lib/python3.12/site-packages (from pandas) (2.9.0.post0)\n",
      "Collecting pytz>=2020.1 (from pandas)\n",
      "  Downloading pytz-2024.2-py2.py3-none-any.whl.metadata (22 kB)\n",
      "Collecting tzdata>=2022.7 (from pandas)\n",
      "  Downloading tzdata-2024.2-py2.py3-none-any.whl.metadata (1.4 kB)\n",
      "Requirement already satisfied: six>=1.5 in /Users/pravinkedia/Downloads/LatestCookBook/granite-code-cookbook/.venv/lib/python3.12/site-packages (from python-dateutil>=2.8.2->pandas) (1.17.0)\n",
      "Downloading pandas-2.2.3-cp312-cp312-macosx_11_0_arm64.whl (11.4 MB)\n",
      "\u001b[2K   \u001b[90m━━━━━━━━━━━━━━━━━━━━━━━━━━━━━━━━━━━━━━━━\u001b[0m \u001b[32m11.4/11.4 MB\u001b[0m \u001b[31m3.9 MB/s\u001b[0m eta \u001b[36m0:00:00\u001b[0ma \u001b[36m0:00:01\u001b[0m\n",
      "\u001b[?25hDownloading pytz-2024.2-py2.py3-none-any.whl (508 kB)\n",
      "Downloading tzdata-2024.2-py2.py3-none-any.whl (346 kB)\n",
      "Installing collected packages: pytz, tzdata, pandas\n",
      "Successfully installed pandas-2.2.3 pytz-2024.2 tzdata-2024.2\n",
      "Collecting sqlite-utils\n",
      "  Downloading sqlite_utils-3.38-py3-none-any.whl.metadata (7.5 kB)\n",
      "Collecting sqlite-fts4 (from sqlite-utils)\n",
      "  Downloading sqlite_fts4-1.0.3-py3-none-any.whl.metadata (6.6 kB)\n",
      "Collecting click (from sqlite-utils)\n",
      "  Downloading click-8.1.8-py3-none-any.whl.metadata (2.3 kB)\n",
      "Collecting click-default-group>=1.2.3 (from sqlite-utils)\n",
      "  Downloading click_default_group-1.2.4-py2.py3-none-any.whl.metadata (2.8 kB)\n",
      "Collecting tabulate (from sqlite-utils)\n",
      "  Using cached tabulate-0.9.0-py3-none-any.whl.metadata (34 kB)\n",
      "Requirement already satisfied: python-dateutil in /Users/pravinkedia/Downloads/LatestCookBook/granite-code-cookbook/.venv/lib/python3.12/site-packages (from sqlite-utils) (2.9.0.post0)\n",
      "Collecting pluggy (from sqlite-utils)\n",
      "  Downloading pluggy-1.5.0-py3-none-any.whl.metadata (4.8 kB)\n",
      "Requirement already satisfied: six>=1.5 in /Users/pravinkedia/Downloads/LatestCookBook/granite-code-cookbook/.venv/lib/python3.12/site-packages (from python-dateutil->sqlite-utils) (1.17.0)\n",
      "Downloading sqlite_utils-3.38-py3-none-any.whl (68 kB)\n",
      "Downloading click_default_group-1.2.4-py2.py3-none-any.whl (4.1 kB)\n",
      "Downloading click-8.1.8-py3-none-any.whl (98 kB)\n",
      "Downloading pluggy-1.5.0-py3-none-any.whl (20 kB)\n",
      "Downloading sqlite_fts4-1.0.3-py3-none-any.whl (10.0 kB)\n",
      "Using cached tabulate-0.9.0-py3-none-any.whl (35 kB)\n",
      "Installing collected packages: sqlite-fts4, tabulate, pluggy, click, click-default-group, sqlite-utils\n",
      "Successfully installed click-8.1.8 click-default-group-1.2.4 pluggy-1.5.0 sqlite-fts4-1.0.3 sqlite-utils-3.38 tabulate-0.9.0\n"
     ]
    }
   ],
   "source": [
    "!pip install  pandas\n",
    "!pip install sqlite-utils"
   ]
  },
  {
   "cell_type": "code",
   "execution_count": 2,
   "metadata": {},
   "outputs": [],
   "source": [
    "import pandas as pd\n",
    "import sqlite3"
   ]
  },
  {
   "cell_type": "code",
   "execution_count": 4,
   "metadata": {},
   "outputs": [],
   "source": [
    "tweeter_df = pd.read_csv('Tweet.csv')\n",
    "location_df = pd.read_csv('Location.csv')\n",
    "user_df = pd.read_csv('User.csv')"
   ]
  },
  {
   "cell_type": "code",
   "execution_count": 5,
   "metadata": {},
   "outputs": [],
   "source": [
    "# Connect to the SQLite database (or create it if it doesn't exist)\n",
    "conn = sqlite3.connect('social_media.db')"
   ]
  },
  {
   "cell_type": "code",
   "execution_count": 6,
   "metadata": {},
   "outputs": [
    {
     "data": {
      "text/plain": [
       "10"
      ]
     },
     "execution_count": 6,
     "metadata": {},
     "output_type": "execute_result"
    }
   ],
   "source": [
    "# Write the DataFrame to the SQLite database\n",
    "tweeter_df.to_sql('tweet', conn, if_exists='replace', index=False)\n",
    "location_df.to_sql('location', conn, if_exists='replace', index=False)\n",
    "user_df.to_sql('user', conn, if_exists='replace', index=False)"
   ]
  },
  {
   "cell_type": "code",
   "execution_count": 7,
   "metadata": {},
   "outputs": [
    {
     "name": "stdout",
     "output_type": "stream",
     "text": [
      "[('U001', 'Male'), ('U002', 'Female'), ('U003', 'Male'), ('U004', 'Female'), ('U005', 'Male'), ('U006', 'Female'), ('U007', 'Male'), ('U008', 'Female'), ('U009', 'Male'), ('U010', 'Female')]\n"
     ]
    }
   ],
   "source": [
    "# Fetch and print the results\n",
    "cursor = conn.cursor()\n",
    "cursor.execute(\"SELECT * FROM user;\")\n",
    "rows = cursor.fetchall()\n",
    "print(rows)"
   ]
  },
  {
   "cell_type": "code",
   "execution_count": 8,
   "metadata": {},
   "outputs": [
    {
     "name": "stdout",
     "output_type": "stream",
     "text": [
      "Schema for table: tweet\n",
      "Column: TweetId, Type: TEXT\n",
      "Column: Weekday, Type: TEXT\n",
      "Column: Hour, Type: INTEGER\n",
      "Column: Day, Type: INTEGER\n",
      "Column: Lang, Type: TEXT\n",
      "Column: IsReshare, Type: INTEGER\n",
      "Column: Reach, Type: INTEGER\n",
      "Column: RetweetCount, Type: INTEGER\n",
      "Column: Likes, Type: INTEGER\n",
      "Column: Klout, Type: INTEGER\n",
      "Column: Sentiment, Type: REAL\n",
      "Column: Text, Type: TEXT\n",
      "Column: LocationID, Type: INTEGER\n",
      "Column: UserID, Type: TEXT\n",
      "\n",
      "\n",
      "Schema for table: location\n",
      "Column: LocationID, Type: INTEGER\n",
      "Column: Country, Type: TEXT\n",
      "Column: State, Type: TEXT\n",
      "Column: StateCode, Type: TEXT\n",
      "Column: City, Type: TEXT\n",
      "\n",
      "\n",
      "Schema for table: user\n",
      "Column: UserID, Type: TEXT\n",
      "Column: Gender, Type: TEXT\n",
      "\n",
      "\n"
     ]
    }
   ],
   "source": [
    "# Get the list of all tables in the database\n",
    "cursor.execute(\"SELECT name FROM sqlite_master WHERE type='table';\")\n",
    "tables = cursor.fetchall()\n",
    "\n",
    "for table_name in tables:\n",
    "    table_name = table_name[0]\n",
    "    print(f\"Schema for table: {table_name}\")\n",
    "\n",
    "    # Get the schema details for each table\n",
    "    cursor.execute(f\"PRAGMA table_info({table_name});\")\n",
    "    columns = cursor.fetchall()\n",
    "\n",
    "    # Print column details\n",
    "    for column in columns:\n",
    "        print(f\"Column: {column[1]}, Type: {column[2]}\")\n",
    "\n",
    "    print(\"\\n\")\n",
    "\n",
    "# Close the connection\n",
    "conn.close()\n"
   ]
  },
  {
   "cell_type": "code",
   "execution_count": null,
   "metadata": {},
   "outputs": [],
   "source": []
  }
 ],
 "metadata": {
  "kernelspec": {
   "display_name": ".venv",
   "language": "python",
   "name": "python3"
  },
  "language_info": {
   "codemirror_mode": {
    "name": "ipython",
    "version": 3
   },
   "file_extension": ".py",
   "mimetype": "text/x-python",
   "name": "python",
   "nbconvert_exporter": "python",
   "pygments_lexer": "ipython3",
   "version": "3.12.8"
  }
 },
 "nbformat": 4,
 "nbformat_minor": 2
}

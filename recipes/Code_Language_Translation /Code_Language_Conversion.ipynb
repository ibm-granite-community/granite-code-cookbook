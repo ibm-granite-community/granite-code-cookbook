{
 "cells": [
  {
   "cell_type": "markdown",
   "id": "3e98b2a4-cf47-4523-bd07-827683728d31",
   "metadata": {},
   "source": [
    "<h2> Convert code from one language to another using ibm-granite-code hosted on Replicate</h2>"
   ]
  },
  {
   "cell_type": "markdown",
   "id": "2d6d88f9",
   "metadata": {},
   "source": [
    "<h3>Notebook goals:</h3>\n",
    "\n",
    "The learning goals of this notebook are:\n",
    "\n",
    "1. Connect to ibm-granite/granite-8b-code-instruct-128k hosted on Replicate, and use it to Generate code for Acceptance Test Python Code\n",
    "2. Connect to ibm-granite/granite-20b-code-instruct-8k hosted on Replicate, and use it to Generate code for Acceptance Test Python Code\n"
   ]
  },
  {
   "cell_type": "markdown",
   "id": "37f638dd",
   "metadata": {},
   "source": [
    "<h3>Prerequisites: </h3>\n",
    "\n",
    "1. Create an account on Replicate.\n",
    "2. Copy the Replicate API Token to an environment file (.env file) and place it in the same directory as this notebook. Environment variable can be named as `REPLICATE_API_TOKEN`.\n",
    "3. Install `langchain` and `ibm-granite-community/utils` python packages using below pip command."
   ]
  },
  {
   "cell_type": "code",
   "execution_count": null,
   "id": "7aa10459",
   "metadata": {},
   "outputs": [],
   "source": [
    "%pip install langchain\n",
    "%pip install git+https://github.com/ibm-granite-community/utils"
   ]
  },
  {
   "cell_type": "markdown",
   "id": "00a45854-f221-466b-a0b4-78effeae9f41",
   "metadata": {},
   "source": [
    "## Introduction\n"
   ]
  },
  {
   "cell_type": "markdown",
   "id": "6a046295",
   "metadata": {},
   "source": [
    "<h3>Code conversion from one language to another</h3>\n",
    "\n",
    "1. Designed for user, who inputs or selects code in one language or whole projects to be translated, including test if they exist, and specifies the other language in which the output is needed(recipe only).\n",
    "2. Generates new code in output language that is functionally the same as the input language code. Also generates corresponding resources, such as associated test scenarios.\n"
   ]
  },
  {
   "cell_type": "markdown",
   "id": "fe10934b-14de-4b36-a251-1178a3ada873",
   "metadata": {},
   "source": [
    "## Using a local model"
   ]
  },
  {
   "cell_type": "markdown",
   "id": "93b722f0",
   "metadata": {},
   "source": [
    "<h3>Get the variables from .env file</h3>\n",
    "\n",
    "This guide will demonstrate a basic inference call using the replicate package.\n",
    "\n",
    "To establish an authenticated session, the code below imports necessary packages, and loads the environment variable `REPLICATE_API_TOKEN` from the .env file."
   ]
  },
  {
   "cell_type": "code",
   "execution_count": null,
   "id": "cfc017ba-fe00-43a4-9299-d4610946076d",
   "metadata": {},
   "outputs": [],
   "source": [
    "import os\n",
    "from dotenv import load_dotenv\n",
    "\n",
    "# Load environment variables from the .env file\n",
    "load_dotenv()\n",
    "\n",
    "# Retrieve the API token directly from environment variables\n",
    "replicate_api_token = os.getenv('REPLICATE_API_TOKEN')\n",
    "\n",
    "if replicate_api_token:\n",
    "    print('API token loaded successfully:', replicate_api_token)\n",
    "else:\n",
    "    print('Failed to load API token. Please check your .env file.')\n"
   ]
  },
  {
   "cell_type": "markdown",
   "id": "2a3c0dce-3630-4408-bd51-23db676874cf",
   "metadata": {},
   "source": [
    "## Using a remotely-hosted model\n",
    "\n",
    "The Granite Code models are available on [Replicate](https://replicate.com/).\n",
    "\n",
    "At the moment, they are only available to members of the Granite Code team.\n",
    "Request an invite to get access.\n",
    "\n",
    "This guide will demonstrate a basic inference call using the `replicate` package as well\n",
    "as via LangChain.\n",
    "In both cases, you will provide a [Replicate API Token](https://replicate.com/account/api-tokens).\n"
   ]
  },
  {
   "cell_type": "markdown",
   "id": "a6138c66",
   "metadata": {},
   "source": [
    "<h3>Deployment ID and Model ID Specifications</h3>\n",
    "\n",
    "Mention the Deployment ID as granite and Specify the Model ID to be used for building the use-case.\n",
    "Also, add additional parameters to tune in as per the apt expectation from the model"
   ]
  },
  {
   "cell_type": "code",
   "execution_count": 356,
   "id": "2eeb4c2e-ec15-4b73-8229-35dae503115c",
   "metadata": {},
   "outputs": [],
   "source": [
    "deployment_id = \"ibm/granite-dev\"\n",
    "\n",
    "model_id = \"ibm/granite-8b-code-instruct:50da94a0b1b5d28e3161d1312077d856eb673b87e633438362e4820fed563444\"\n",
    "\n",
    "parameters = {\n",
    "    \"decoding_method\": \"greedy\",\n",
    "    \"max_new_tokens\": 1000,\n",
    "    \"min_new_tokens\": 1,\n",
    "    \"max_length\": 20,\n",
    "    \"stop_sequences\": [\"\"],\n",
    "    \"repetition_penalty\": 2\n",
    "}"
   ]
  },
  {
   "cell_type": "markdown",
   "id": "37ab60fa",
   "metadata": {},
   "source": [
    "<h2>Prompt Definition: Python to Javascript Conversion</h2>\n",
    "\n",
    "We further need to specify the prompt as an input to the model with apt configuration by including within it the specification along with the correct requirements needed. \n",
    "\n",
    "For an instance, in this use case, we implement the prompt to contain an instruction for converting code from one language to another, namely from Python to Javascript to cover the behavior of application of open api onto code conversion aspect."
   ]
  },
  {
   "cell_type": "code",
   "execution_count": 357,
   "id": "02f99de7-ff2e-4ae4-b1f2-1ac4453b4c19",
   "metadata": {},
   "outputs": [],
   "source": [
    "prompt1 = \"\"\"Using the directions below, Generate only the javascript code for the python code in input and nothing else. \n",
    "\n",
    "\n",
    "Input: def print_n_times(n):\n",
    "    for i in range(n):\n",
    "        print(\"Hello World!\")\n",
    "Output: function print_n_times = (n) => {\"Hello World!\".repeat(n)};\n",
    "\n",
    "Input:\n",
    "def Fibonacci(n):\n",
    "    # Check if input is 0 then it will\n",
    "    # print incorrect input\n",
    "    if n < 0:\n",
    "        print(\"Incorrect input\")\n",
    "    # Check if n is 0\n",
    "    # then it will return 0\n",
    "    elif n == 0:\n",
    "        return 0\n",
    "    # Check if n is 1,2\n",
    "    # it will return 1\n",
    "    elif n == 1 or n == 2:\n",
    "        return 1\n",
    "    else:\n",
    "        return Fibonacci(n-1) + Fibonacci(n-2)\n",
    "print(Fibonacci(9))\n",
    "\n",
    "Output:\n",
    "function Fibonacci = (n) => {\n",
    "    if (n < 0) {\n",
    "        console.log(\"Incorrect input\");\n",
    "    } else if (n == 0) {\n",
    "        return 0;\n",
    "    } else if (n == 1 || n == 2) {\n",
    "        return 1;\n",
    "    } else {\n",
    "        return Fibonacci(n-1) + Fibonacci(n-2);\n",
    "    }\n",
    "};\n",
    "console.log(Fibonacci(9));\n",
    "\n",
    "Input: # Write a Javascript function to translate the python code provided below:\n",
    "def add_two_numbers(a,b):\n",
    "    num1 = a\n",
    "    num2 = b\n",
    "    sum = num1 + num2\n",
    "    print(\"Sum of\", num1, \"and\", num2 , \"is\", sum)\n",
    "\n",
    "Output:\"\"\""
   ]
  },
  {
   "cell_type": "markdown",
   "id": "cd20e206-40b8-4f45-a7a3-6e22d1c76c90",
   "metadata": {},
   "source": [
    "### Replicate package"
   ]
  },
  {
   "cell_type": "markdown",
   "id": "79ba85a7",
   "metadata": {},
   "source": [
    "Python package replicate needs to be installed for being imported in the next step."
   ]
  },
  {
   "cell_type": "markdown",
   "metadata": {},
   "source": [
    "Python package replicate needs to be installed for being imported in the next step."
   ]
  },
  {
   "cell_type": "code",
   "execution_count": null,
   "id": "4dcdf174-6f25-432c-b2d6-6370f4eff98b",
   "metadata": {
    "collapsed": true,
    "jupyter": {
     "outputs_hidden": true
    },
    "scrolled": true
   },
   "outputs": [],
   "source": [
    "%pip install replicate"
   ]
  },
  {
   "cell_type": "markdown",
   "id": "39281ebd",
   "metadata": {},
   "source": [
    "<h3>Import all the necessary libraries and packages</h3>\n",
    "\n",
    "Replicate package needs to be imported in order to be used for refering to the deployment for which the prompt is being directed to achieving the test/s generated."
   ]
  },
  {
   "cell_type": "code",
   "execution_count": 359,
   "id": "65423430-1e61-4ed8-8396-3f96860463fe",
   "metadata": {},
   "outputs": [],
   "source": [
    "import replicate"
   ]
  },
  {
   "cell_type": "markdown",
   "id": "a571fb78",
   "metadata": {},
   "source": [
    "<h3>Error Handling and Cleaning Output</h3>\n",
    "\n",
    "Next, using replicate, prediction is created with the prompt designed as per the configuration in the previous step. Furthermore, the exception handling is curated onto the response of the prompt to generate clean output for the user in terms of the test generated inclusing error handling."
   ]
  },
  {
   "cell_type": "code",
   "execution_count": null,
   "id": "736d4153-3900-473c-a46b-d5e326dfb929",
   "metadata": {},
   "outputs": [],
   "source": [
    "deployment1 = replicate.deployments.get(deployment_id)\n",
    "print(\"prompt\", prompt1)\n",
    "prediction1 = deployment1.predictions.create(\n",
    "  input={\"prompt\": prompt1, \"params\" : parameters}\n",
    ")\n",
    "\n",
    "prediction1.wait()\n",
    "\n",
    "if (prediction1.output[0].__contains__('mock')): \n",
    "  prompt_response1 = 'The provided input specification for code translation seems corrupted. Kindly check again and reattampt.'\n",
    "else:\n",
    "  prompt_response1 = (prediction1.output[0].split('<|endoftext|>')[0].split('\\n\\nAnswer:\\n')[-1])\n",
    "print(prompt_response1)"
   ]
  },
  {
   "cell_type": "markdown",
   "id": "13509283",
   "metadata": {},
   "source": [
    "<h3>Prompt preparation for Test case scenario creations for converted code</h3>\n",
    "\n",
    "Further, we will create a new prompt to generate a test case for the code translated using the following:"
   ]
  },
  {
   "cell_type": "code",
   "execution_count": null,
   "id": "d723b537",
   "metadata": {},
   "outputs": [],
   "source": [
    "\n",
    "if (prediction1 != 'The provided input specification for code translation seems corrupted. Kindly check again and reattampt.'):\n",
    "    prompt2 = \"\"\"Generate the test for the code provided in input. \\n Input:\"\"\" + prompt_response1 + \"\"\"\\nOutput:\"\"\"\n",
    "\n",
    "print(prompt2)"
   ]
  },
  {
   "cell_type": "markdown",
   "id": "fd254c80",
   "metadata": {},
   "source": [
    "<h3>Fetching Acceptance Test as response to the prompt</h3>\n",
    "\n",
    "Next, using replicate, prediction is created with the new prompt designed as per the configuration in the previous step. And, the exception handling is curated onto the response of the prompt to generate clean output for the user in terms of the test generated including error handling."
   ]
  },
  {
   "cell_type": "code",
   "execution_count": null,
   "id": "33f80911",
   "metadata": {},
   "outputs": [],
   "source": [
    "if (prediction1 != 'The provided input specification for code translation seems corrupted. Kindly check again and reattampt.'):\n",
    "  deployment2 = replicate.deployments.get(deployment_id)\n",
    "  print(\"prompt\", prompt2)\n",
    "  prediction2 = deployment2.predictions.create(\n",
    "    input={\"prompt\": prompt2, \"params\" : parameters}\n",
    "  )\n",
    "\n",
    "  prediction2.wait()\n",
    "  if (prediction2.output[0].__contains__('mock')): \n",
    "    print('The test case for the function translated cannot generated. Please check the code and modify as needed or kindly check again and reattampt.')\n",
    "  else:\n",
    "    print((prediction2.output[0].split('<|endoftext|>')[0]))"
   ]
  },
  {
   "cell_type": "markdown",
   "id": "0a982f80",
   "metadata": {},
   "source": [
    "<h2>Prompt Definition: Java to Python Conversion</h2>\n",
    "\n",
    "We further need to specify the prompt as an input to the model with apt configuration by including within it the specification along with the correct requirements needed. \n",
    "\n",
    "For an instance, in this use case, we implement the prompt to contain an instruction for converting code from one language to another, namely from Java to Python to cover the behavior of application of open api onto code conversion aspect."
   ]
  },
  {
   "cell_type": "code",
   "execution_count": 363,
   "id": "af71419a",
   "metadata": {},
   "outputs": [],
   "source": [
    "prompt3 = \"\"\"Using the directions below, Generate only the python code for the java code in input and nothing else. \n",
    "\n",
    "Input: \n",
    "public class Array {\n",
    "    public static void main(String[] args) {\n",
    "        int[] array = {1, 2, 3, 4, 5};\n",
    "        for (int element: array) {\n",
    "            System.out.println(element);\n",
    "        }\n",
    "    }\n",
    "}\n",
    "\n",
    "Output:\n",
    "numbers = [1, 2, 3, 4, 5]\n",
    "for number in numbers:\n",
    "\tprint(number)\n",
    "\n",
    "Input:\n",
    "import java.io.*;\n",
    "class Fibonnaci {\n",
    "\n",
    "    // Function to print the fibonacci series\n",
    "\n",
    "    static int fib(int n)\n",
    "\n",
    "    {\n",
    "\n",
    "        // Base Case\n",
    "\n",
    "        if (n <= 1)\n",
    "\n",
    "            return n;\n",
    "\n",
    "        // Recursive call\n",
    "\n",
    "        return fib(n – 1) + fib(n – 2);\n",
    "\n",
    "    }\n",
    "\n",
    "    // Driver Code\n",
    "\n",
    "    public static void main(String args[])\n",
    "\n",
    "    {\n",
    "\n",
    "        // Given Number N\n",
    "\n",
    "        int N = 10;\n",
    "\n",
    "        // Print the first N numbers\n",
    "\n",
    "        for (int i = 0; i < N; i++) {\n",
    "\n",
    "            System.out.print(fib(i) + ” “);\n",
    "\n",
    "        }\n",
    "    }\n",
    "}    \n",
    "\n",
    "Output:\n",
    "def Fibonacci(n):\n",
    "    # Check if input is 0 then it will\n",
    "    # print incorrect input\n",
    "    if n < 0:\n",
    "        print(\"Incorrect input\")\n",
    "    # Check if n is 0\n",
    "    # then it will return 0\n",
    "    elif n == 0:\n",
    "        return 0\n",
    "    # Check if n is 1,2\n",
    "    # it will return 1\n",
    "    elif n == 1 or n == 2:\n",
    "        return 1\n",
    "    else:\n",
    "        return Fibonacci(n-1) + Fibonacci(n-2)\n",
    "print(Fibonacci(9))\n",
    "\n",
    "Input: # Write a Python function to translate the java code provided below:\n",
    "public class AsciiValue {\n",
    "    public static void main(String[] args) {\n",
    "        char ch = 'a';\n",
    "        int ascii = ch;\n",
    "        // You can also cast char to int\n",
    "        int castAscii = (int) ch;\n",
    "        System.out.println(\"The ASCII value of \" + ch + \" is: \" + ascii);\n",
    "        System.out.println(\"The ASCII value of \" + ch + \" is: \" + castAscii);\n",
    "    }\n",
    "}\n",
    "\n",
    "Output:\"\"\""
   ]
  },
  {
   "cell_type": "markdown",
   "id": "6cbdeb83",
   "metadata": {},
   "source": [
    "### Replicate package"
   ]
  },
  {
   "cell_type": "markdown",
   "id": "6a532d64",
   "metadata": {},
   "source": [
    "Python package replicate needs to be installed for being imported in the next step."
   ]
  },
  {
   "cell_type": "code",
   "execution_count": null,
   "id": "b2c3aab3",
   "metadata": {},
   "outputs": [],
   "source": [
    "%pip install replicate"
   ]
  },
  {
   "cell_type": "markdown",
   "id": "c4d448a1",
   "metadata": {},
   "source": [
    "<h3>Import all the necessary libraries and packages</h3>\n",
    "\n",
    "Replicate package needs to be imported in order to be used for refering to the deployment for which the prompt is being directed to achieving the test/s generated."
   ]
  },
  {
   "cell_type": "code",
   "execution_count": 365,
   "id": "d64d83ab",
   "metadata": {},
   "outputs": [],
   "source": [
    "import replicate"
   ]
  },
  {
   "cell_type": "markdown",
   "id": "7d11d5e5",
   "metadata": {},
   "source": [
    "<h3>Error Handling and Cleaning Output</h3>\n",
    "\n",
    "Next, using replicate, prediction is created with the prompt designed as per the configuration in the previous step. Furthermore, the exception handling is curated onto the response of the prompt to generate clean output for the user in terms of the test generated inclusing error handling."
   ]
  },
  {
   "cell_type": "code",
   "execution_count": null,
   "id": "4c90b8cb",
   "metadata": {},
   "outputs": [],
   "source": [
    "deployment3 = replicate.deployments.get(deployment_id)\n",
    "print(\"prompt\", prompt3)\n",
    "prediction3 = deployment3.predictions.create(\n",
    "  input={\"prompt\": prompt3, \"params\" : parameters}\n",
    ")\n",
    "\n",
    "prediction3.wait()\n",
    "\n",
    "if (prediction1.output[0].__contains__('mock')): \n",
    "  prompt_response3 = 'The provided input specification for code translation seems corrupted. Kindly check again and reattampt.'\n",
    "else:\n",
    "  prompt_response3 = (prediction3.output[0].split('<|endoftext|>')[0].split('\\n\\nAnswer:\\n')[-1].split('# Test the function')[0])\n",
    "print(prompt_response3)"
   ]
  },
  {
   "cell_type": "markdown",
   "id": "934de93a",
   "metadata": {},
   "source": [
    "<h3>Prompt preparation for Test case scenario creations for converted code</h3>\n",
    "\n",
    "Further, we will create a new prompt to generate a test case for the code translated using the following:"
   ]
  },
  {
   "cell_type": "code",
   "execution_count": null,
   "id": "b2737ca3",
   "metadata": {},
   "outputs": [],
   "source": [
    "\n",
    "if (prediction3 != 'The provided input specification for code translation seems corrupted. Kindly check again and reattampt.'):\n",
    "    prompt4 = \"\"\"Generate only the test for the code provided in input. \\n Input:\"\"\" + prompt_response3 + \"\"\"\\nOutput:\"\"\"\n",
    "\n",
    "print(prompt4)"
   ]
  },
  {
   "cell_type": "markdown",
   "id": "69c59f27",
   "metadata": {},
   "source": [
    "<h3>Fetching Acceptance Test as response to the prompt</h3>\n",
    "\n",
    "Next, using replicate, prediction is created with the new prompt designed as per the configuration in the previous step. And, the exception handling is curated onto the response of the prompt to generate clean output for the user in terms of the test generated including error handling."
   ]
  },
  {
   "cell_type": "code",
   "execution_count": null,
   "id": "514c6879",
   "metadata": {},
   "outputs": [],
   "source": [
    "if (prediction3 != 'The provided input specification for code translation seems corrupted. Kindly check again and reattampt.'):\n",
    "  deployment4 = replicate.deployments.get(deployment_id)\n",
    "  print(\"prompt\", prompt4)\n",
    "  prediction4 = deployment4.predictions.create(\n",
    "    input={\"prompt\": prompt4, \"params\" : parameters}\n",
    "  )\n",
    "\n",
    "  prediction4.wait()\n",
    "  if (prediction4.output[0].__contains__('mock')): \n",
    "    print('The test case for the function translated cannot generated. Please check the code and modify as needed or kindly check again and reattampt.')\n",
    "  else:\n",
    "    print((prediction4.output[0].split('<|endoftext|>')[0]))"
   ]
  }
 ],
 "metadata": {
  "kernelspec": {
   "display_name": "Python 3 (ipykernel)",
   "language": "python",
   "name": "python3"
  },
  "language_info": {
   "codemirror_mode": {
    "name": "ipython",
    "version": 3
   },
   "file_extension": ".py",
   "mimetype": "text/x-python",
   "name": "python",
   "nbconvert_exporter": "python",
   "pygments_lexer": "ipython3",
   "version": "3.12.5"
  }
 },
 "nbformat": 4,
 "nbformat_minor": 5
}

{
 "cells": [
  {
   "cell_type": "markdown",
   "metadata": {},
   "source": [
    "# Generating Bash Code with Granite Code Models"
   ]
  },
  {
   "cell_type": "markdown",
   "metadata": {},
   "source": [
    "> **NOTE:** This recipe assumes you are working on a Linux, MacOS, or other UNIX-compatible system. While we haven't tested on Windows, some of the examples may generate valid DOS or PowerShell output. See comments below.\n"
   ]
  },
  {
   "cell_type": "markdown",
   "metadata": {},
   "source": [
    "## Setting Up"
   ]
  },
  {
   "cell_type": "markdown",
   "metadata": {},
   "source": [
    "### Install dependencies\n",
    "\n",
    "Granite Kitchen comes with a bundle of dependencies that are required for Granite Cookbook recipes. See the list of packages in its [`setup.py`](https://github.com/ibm-granite-community/granite-kitchen/blob/main/setup.py). "
   ]
  },
  {
   "cell_type": "code",
   "execution_count": 1,
   "metadata": {},
   "outputs": [
    {
     "name": "stdout",
     "output_type": "stream",
     "text": [
      "Collecting git+https://github.com/ibm-granite-community/utils\n",
      "  Cloning https://github.com/ibm-granite-community/utils to /private/var/folders/8t/m9m188_d0tb8szvfqlc20hfr0000gn/T/pip-req-build-kfidbz59\n",
      "  Running command git clone --filter=blob:none --quiet https://github.com/ibm-granite-community/utils /private/var/folders/8t/m9m188_d0tb8szvfqlc20hfr0000gn/T/pip-req-build-kfidbz59\n",
      "  Resolved https://github.com/ibm-granite-community/utils to commit a5965f40db3950dd2a41f3ca62a2c34adcdc20d7\n",
      "  Installing build dependencies ... \u001b[?25ldone\n",
      "\u001b[?25h  Getting requirements to build wheel ... \u001b[?25ldone\n",
      "\u001b[?25h  Preparing metadata (pyproject.toml) ... \u001b[?25ldone\n",
      "\u001b[?25hRequirement already satisfied: langchain_community<0.3.0 in /Users/pravinkedia/Downloads/LatestCookBook/granite-code-cookbook/.venv/lib/python3.12/site-packages (0.2.19)\n",
      "Requirement already satisfied: replicate in /Users/pravinkedia/Downloads/LatestCookBook/granite-code-cookbook/.venv/lib/python3.12/site-packages (1.0.4)\n",
      "Requirement already satisfied: python-dotenv in /Users/pravinkedia/Downloads/LatestCookBook/granite-code-cookbook/.venv/lib/python3.12/site-packages (from ibm-granite-community-utils==0.1.dev46) (1.0.1)\n",
      "Requirement already satisfied: PyYAML>=5.3 in /Users/pravinkedia/Downloads/LatestCookBook/granite-code-cookbook/.venv/lib/python3.12/site-packages (from langchain_community<0.3.0) (6.0.2)\n",
      "Requirement already satisfied: SQLAlchemy<3,>=1.4 in /Users/pravinkedia/Downloads/LatestCookBook/granite-code-cookbook/.venv/lib/python3.12/site-packages (from langchain_community<0.3.0) (2.0.36)\n",
      "Requirement already satisfied: aiohttp<4.0.0,>=3.8.3 in /Users/pravinkedia/Downloads/LatestCookBook/granite-code-cookbook/.venv/lib/python3.12/site-packages (from langchain_community<0.3.0) (3.11.11)\n",
      "Requirement already satisfied: dataclasses-json<0.7,>=0.5.7 in /Users/pravinkedia/Downloads/LatestCookBook/granite-code-cookbook/.venv/lib/python3.12/site-packages (from langchain_community<0.3.0) (0.6.7)\n",
      "Requirement already satisfied: langchain<0.3.0,>=0.2.17 in /Users/pravinkedia/Downloads/LatestCookBook/granite-code-cookbook/.venv/lib/python3.12/site-packages (from langchain_community<0.3.0) (0.2.17)\n",
      "Requirement already satisfied: langchain-core<0.3.0,>=0.2.43 in /Users/pravinkedia/Downloads/LatestCookBook/granite-code-cookbook/.venv/lib/python3.12/site-packages (from langchain_community<0.3.0) (0.2.43)\n",
      "Requirement already satisfied: langsmith<0.2.0,>=0.1.112 in /Users/pravinkedia/Downloads/LatestCookBook/granite-code-cookbook/.venv/lib/python3.12/site-packages (from langchain_community<0.3.0) (0.1.147)\n",
      "Requirement already satisfied: numpy<2.0.0,>=1.26.0 in /Users/pravinkedia/Downloads/LatestCookBook/granite-code-cookbook/.venv/lib/python3.12/site-packages (from langchain_community<0.3.0) (1.26.4)\n",
      "Requirement already satisfied: requests<3,>=2 in /Users/pravinkedia/Downloads/LatestCookBook/granite-code-cookbook/.venv/lib/python3.12/site-packages (from langchain_community<0.3.0) (2.32.3)\n",
      "Requirement already satisfied: tenacity!=8.4.0,<9.0.0,>=8.1.0 in /Users/pravinkedia/Downloads/LatestCookBook/granite-code-cookbook/.venv/lib/python3.12/site-packages (from langchain_community<0.3.0) (8.5.0)\n",
      "Requirement already satisfied: httpx<1,>=0.21.0 in /Users/pravinkedia/Downloads/LatestCookBook/granite-code-cookbook/.venv/lib/python3.12/site-packages (from replicate) (0.28.1)\n",
      "Requirement already satisfied: packaging in /Users/pravinkedia/Downloads/LatestCookBook/granite-code-cookbook/.venv/lib/python3.12/site-packages (from replicate) (24.2)\n",
      "Requirement already satisfied: pydantic>1.10.7 in /Users/pravinkedia/Downloads/LatestCookBook/granite-code-cookbook/.venv/lib/python3.12/site-packages (from replicate) (2.10.4)\n",
      "Requirement already satisfied: typing_extensions>=4.5.0 in /Users/pravinkedia/Downloads/LatestCookBook/granite-code-cookbook/.venv/lib/python3.12/site-packages (from replicate) (4.12.2)\n",
      "Requirement already satisfied: aiohappyeyeballs>=2.3.0 in /Users/pravinkedia/Downloads/LatestCookBook/granite-code-cookbook/.venv/lib/python3.12/site-packages (from aiohttp<4.0.0,>=3.8.3->langchain_community<0.3.0) (2.4.4)\n",
      "Requirement already satisfied: aiosignal>=1.1.2 in /Users/pravinkedia/Downloads/LatestCookBook/granite-code-cookbook/.venv/lib/python3.12/site-packages (from aiohttp<4.0.0,>=3.8.3->langchain_community<0.3.0) (1.3.2)\n",
      "Requirement already satisfied: attrs>=17.3.0 in /Users/pravinkedia/Downloads/LatestCookBook/granite-code-cookbook/.venv/lib/python3.12/site-packages (from aiohttp<4.0.0,>=3.8.3->langchain_community<0.3.0) (24.3.0)\n",
      "Requirement already satisfied: frozenlist>=1.1.1 in /Users/pravinkedia/Downloads/LatestCookBook/granite-code-cookbook/.venv/lib/python3.12/site-packages (from aiohttp<4.0.0,>=3.8.3->langchain_community<0.3.0) (1.5.0)\n",
      "Requirement already satisfied: multidict<7.0,>=4.5 in /Users/pravinkedia/Downloads/LatestCookBook/granite-code-cookbook/.venv/lib/python3.12/site-packages (from aiohttp<4.0.0,>=3.8.3->langchain_community<0.3.0) (6.1.0)\n",
      "Requirement already satisfied: propcache>=0.2.0 in /Users/pravinkedia/Downloads/LatestCookBook/granite-code-cookbook/.venv/lib/python3.12/site-packages (from aiohttp<4.0.0,>=3.8.3->langchain_community<0.3.0) (0.2.1)\n",
      "Requirement already satisfied: yarl<2.0,>=1.17.0 in /Users/pravinkedia/Downloads/LatestCookBook/granite-code-cookbook/.venv/lib/python3.12/site-packages (from aiohttp<4.0.0,>=3.8.3->langchain_community<0.3.0) (1.18.3)\n",
      "Requirement already satisfied: marshmallow<4.0.0,>=3.18.0 in /Users/pravinkedia/Downloads/LatestCookBook/granite-code-cookbook/.venv/lib/python3.12/site-packages (from dataclasses-json<0.7,>=0.5.7->langchain_community<0.3.0) (3.23.2)\n",
      "Requirement already satisfied: typing-inspect<1,>=0.4.0 in /Users/pravinkedia/Downloads/LatestCookBook/granite-code-cookbook/.venv/lib/python3.12/site-packages (from dataclasses-json<0.7,>=0.5.7->langchain_community<0.3.0) (0.9.0)\n",
      "Requirement already satisfied: anyio in /Users/pravinkedia/Downloads/LatestCookBook/granite-code-cookbook/.venv/lib/python3.12/site-packages (from httpx<1,>=0.21.0->replicate) (4.7.0)\n",
      "Requirement already satisfied: certifi in /Users/pravinkedia/Downloads/LatestCookBook/granite-code-cookbook/.venv/lib/python3.12/site-packages (from httpx<1,>=0.21.0->replicate) (2024.12.14)\n",
      "Requirement already satisfied: httpcore==1.* in /Users/pravinkedia/Downloads/LatestCookBook/granite-code-cookbook/.venv/lib/python3.12/site-packages (from httpx<1,>=0.21.0->replicate) (1.0.7)\n",
      "Requirement already satisfied: idna in /Users/pravinkedia/Downloads/LatestCookBook/granite-code-cookbook/.venv/lib/python3.12/site-packages (from httpx<1,>=0.21.0->replicate) (3.10)\n",
      "Requirement already satisfied: h11<0.15,>=0.13 in /Users/pravinkedia/Downloads/LatestCookBook/granite-code-cookbook/.venv/lib/python3.12/site-packages (from httpcore==1.*->httpx<1,>=0.21.0->replicate) (0.14.0)\n",
      "Requirement already satisfied: langchain-text-splitters<0.3.0,>=0.2.0 in /Users/pravinkedia/Downloads/LatestCookBook/granite-code-cookbook/.venv/lib/python3.12/site-packages (from langchain<0.3.0,>=0.2.17->langchain_community<0.3.0) (0.2.4)\n",
      "Requirement already satisfied: jsonpatch<2.0,>=1.33 in /Users/pravinkedia/Downloads/LatestCookBook/granite-code-cookbook/.venv/lib/python3.12/site-packages (from langchain-core<0.3.0,>=0.2.43->langchain_community<0.3.0) (1.33)\n",
      "Requirement already satisfied: orjson<4.0.0,>=3.9.14 in /Users/pravinkedia/Downloads/LatestCookBook/granite-code-cookbook/.venv/lib/python3.12/site-packages (from langsmith<0.2.0,>=0.1.112->langchain_community<0.3.0) (3.10.12)\n",
      "Requirement already satisfied: requests-toolbelt<2.0.0,>=1.0.0 in /Users/pravinkedia/Downloads/LatestCookBook/granite-code-cookbook/.venv/lib/python3.12/site-packages (from langsmith<0.2.0,>=0.1.112->langchain_community<0.3.0) (1.0.0)\n",
      "Requirement already satisfied: annotated-types>=0.6.0 in /Users/pravinkedia/Downloads/LatestCookBook/granite-code-cookbook/.venv/lib/python3.12/site-packages (from pydantic>1.10.7->replicate) (0.7.0)\n",
      "Requirement already satisfied: pydantic-core==2.27.2 in /Users/pravinkedia/Downloads/LatestCookBook/granite-code-cookbook/.venv/lib/python3.12/site-packages (from pydantic>1.10.7->replicate) (2.27.2)\n",
      "Requirement already satisfied: charset-normalizer<4,>=2 in /Users/pravinkedia/Downloads/LatestCookBook/granite-code-cookbook/.venv/lib/python3.12/site-packages (from requests<3,>=2->langchain_community<0.3.0) (3.4.0)\n",
      "Requirement already satisfied: urllib3<3,>=1.21.1 in /Users/pravinkedia/Downloads/LatestCookBook/granite-code-cookbook/.venv/lib/python3.12/site-packages (from requests<3,>=2->langchain_community<0.3.0) (2.3.0)\n",
      "Requirement already satisfied: jsonpointer>=1.9 in /Users/pravinkedia/Downloads/LatestCookBook/granite-code-cookbook/.venv/lib/python3.12/site-packages (from jsonpatch<2.0,>=1.33->langchain-core<0.3.0,>=0.2.43->langchain_community<0.3.0) (3.0.0)\n",
      "Requirement already satisfied: mypy-extensions>=0.3.0 in /Users/pravinkedia/Downloads/LatestCookBook/granite-code-cookbook/.venv/lib/python3.12/site-packages (from typing-inspect<1,>=0.4.0->dataclasses-json<0.7,>=0.5.7->langchain_community<0.3.0) (1.0.0)\n",
      "Requirement already satisfied: sniffio>=1.1 in /Users/pravinkedia/Downloads/LatestCookBook/granite-code-cookbook/.venv/lib/python3.12/site-packages (from anyio->httpx<1,>=0.21.0->replicate) (1.3.1)\n"
     ]
    }
   ],
   "source": [
    "!pip install git+https://github.com/ibm-granite-community/utils \\\n",
    "    langchain_community \\\n",
    "    replicate\n"
   ]
  },
  {
   "cell_type": "markdown",
   "metadata": {},
   "source": [
    "### Select a model\n",
    "\n",
    "Select a Granite Code model from the [`ibm-granite`](https://replicate.com/ibm-granite) org on Replicate. Here we use the Replicate Langchain client to connect to the model.\n",
    "\n",
    "To connect to a model on a provider other than Replicate, substitute this code cell with one from the [LLM component recipe](https://github.com/ibm-granite-community/granite-kitchen/blob/main/recipes/Components/Langchain_LLMs.ipynb)."
   ]
  },
  {
   "cell_type": "code",
   "execution_count": 2,
   "metadata": {},
   "outputs": [],
   "source": [
    "from langchain_community.llms import Replicate\n",
    "from ibm_granite_community.notebook_utils import get_env_var\n",
    "\n",
    "model = Replicate(\n",
    "    replicate_api_token=get_env_var('REPLICATE_API_TOKEN'),\n",
    ")"
   ]
  },
  {
   "cell_type": "markdown",
   "metadata": {},
   "source": [
    "### Detect your operating system"
   ]
  },
  {
   "cell_type": "markdown",
   "metadata": {},
   "source": [
    "We'll find it useful to determine the name of our operating system and use that string in queries. This is because shell commands sometimes have different options on Linux vs. MacOS, etc. We'll write our queries so they take this difference into account. We can use a helper function to determine your OS. Note that `platform.system()` returns `Windows` on Windows system."
   ]
  },
  {
   "cell_type": "markdown",
   "metadata": {},
   "source": [
    "> **TIPS:** If you are using MacOS, you can install Linux-compatible versions of many commands. Consider these two options:\n",
    "> * Install GNU Coreutils on a Mac. See [these instructions](https://superuser.com/questions/476575/replace-os-xs-shell-commands-with-the-linux-versions).\n",
    "> * Install [HomeBrew](https://brew.sh/) and use it to install Linux-compatible (and other) tools."
   ]
  },
  {
   "cell_type": "code",
   "execution_count": 3,
   "metadata": {},
   "outputs": [
    {
     "name": "stdout",
     "output_type": "stream",
     "text": [
      "My OS is MacOS. My shell is bash.\n"
     ]
    }
   ],
   "source": [
    "import platform\n",
    "\n",
    "def os_name():\n",
    "    os_name = platform.system()\n",
    "    # It turns out, using \"MacOS\" is better than \"Darwin\", which is what gets returned on MacOS.\n",
    "    # For all other cases, the returned value should be fine as is, so we map the result to the desired\n",
    "    # name, but only for MacOS...\n",
    "    name_map = {'Darwin': 'MacOS'}\n",
    "    shell_map = {'Windows': 'DOS'} # On Windows and use Power Shell, change from `DOS` to `Power Shell`.\n",
    "    # ... then pass the os_name value as the second arg, which is used as the default return value.\n",
    "    # For the shell name, return `bash` by default. (You can change this to zsh, fish, etc.)\n",
    "    return name_map.get(os_name, os_name), shell_map.get(os_name, 'bash')\n",
    "\n",
    "my_os, my_shell = os_name()\n",
    "print(f\"My OS is {my_os}. My shell is {my_shell}.\")"
   ]
  },
  {
   "cell_type": "markdown",
   "metadata": {},
   "source": [
    "\n",
    "## One-shot Prompting with Granite Code Models\n",
    "\n",
    "In One-shot prompting, you provide the model with a question and no examples. The model will generate an answer given its training. Larger models tend to do better at this task.\n",
    "\n",
    "Note how we add additional context to the user's input prompt, such as _\"make sure you write code that works for _my_ system!\"_ (We'll see another way to do this below.)"
   ]
  },
  {
   "cell_type": "code",
   "execution_count": 4,
   "metadata": {},
   "outputs": [
    {
     "name": "stdout",
     "output_type": "stream",
     "text": [
      "Here is a bash script that should meet your requirements:\n",
      "\n",
      "```bash\n",
      "#!/bin/bash\n",
      "\n",
      "# Get the current timestamp one week ago\n",
      "one_week_ago=$(date -v -1w \"+%Y-%m-%d %H:%M:%S\")\n",
      "\n",
      "# Find files modified within the last week and print their names along with their last modification time\n",
      "find . -type f -newermt \"$one_week_ago\" -printf \"%Y-%m-%d %H:%M:%S %p\\n\" | head -n 50\n",
      "```\n",
      "\n",
      "This script first calculates the timestamp for one week ago from the current time. Then it uses the `find` command to search for files (`-type f`) that have been modified more recently than the calculated timestamp (`-newermt`). The `-printf` option is used to format the output, showing the last modification time (`%Y-%m-%d %H:%M:%S`) and the file path (`%p`). The `head -n 50` command ensures that only the first 50 results are displayed.\n",
      "\n",
      "This script is compatible with MacOS, as it uses the `date` command available in MacOS's default shell (Bash).\n"
     ]
    }
   ],
   "source": [
    "from textwrap import dedent\n",
    "\n",
    "prompt = dedent(f\"\"\"\\\n",
    "    Show me a {my_shell} script to print the first 50 files found under the current working directory\n",
    "    that have been modified within the last week. Make sure you show the last modification time\n",
    "    for each file in the output. Make sure you generate {my_shell} code that is {my_os}-compatible!\"\"\"\n",
    ")\n",
    "\n",
    "response = model.invoke(prompt)\n",
    "print(response)"
   ]
  },
  {
   "cell_type": "markdown",
   "metadata": {},
   "source": [
    "### Try the script"
   ]
  },
  {
   "cell_type": "markdown",
   "metadata": {},
   "source": [
    "Remove any markdown formatting in the output and paste the commands generated into the next cell _**after the %%bash line shown**_. Also delete the `ls -l`, which is there to allow the cell to run without error if nothing is pasted there (e.g., in our CI/CD test system). So, for example, you might have something like the following:\n",
    "\n",
    "```shell\n",
    "%%bash\n",
    "find dir -type d | do_something\n",
    "...\n",
    "```\n",
    "\n",
    "The `%%bash` \"magic\" tells Jupyter to run the commands as a shell script instead of as Python code. You can omit lines like `#!/bin/bash` and keep or remove any comments `# this is a comment...`.\n",
    "\n",
    "Does the script work? If not try running the query again. Also try modifying the query string. What difference do these steps make?"
   ]
  },
  {
   "cell_type": "code",
   "execution_count": 5,
   "metadata": {},
   "outputs": [
    {
     "name": "stdout",
     "output_type": "stream",
     "text": [
      "total 56\n",
      "-rw-r--r--  1 pravinkedia  staff  24581 Dec 30 13:17 Text_to_Shell.ipynb\n"
     ]
    }
   ],
   "source": [
    "%%bash\n",
    "ls -l"
   ]
  },
  {
   "cell_type": "markdown",
   "metadata": {},
   "source": [
    "We explore execution of generated shell code in the next recipe we recommend you study after this one, [../Text_to_Shell_Exec](../Text_to_Shell_Exec/Text_to_Shell_Exec.ipynb)."
   ]
  },
  {
   "cell_type": "markdown",
   "metadata": {},
   "source": [
    "## Few-shot Prompting with Granite Code Models\n",
    "\n",
    "In few-shot prompting, you provide the model with a question and some examples. The model will generate an answer given its training. The additional examples help the model zero in on a pattern, which may be required for smaller models to perform well at this task."
   ]
  },
  {
   "cell_type": "markdown",
   "metadata": {},
   "source": [
    "### Provide a list of Q&A examples"
   ]
  },
  {
   "cell_type": "markdown",
   "metadata": {},
   "source": [
    "\n",
    "One of the examples uses the `stat` command, which requires different syntax for Linux vs. MacOS systems.\n",
    "\n",
    "> **NOTE:** If you are using a Windows system, try changing the \"answers\" in the `examples` cell to be valid Power Shell or DOS commands. You can ignore the `stat_flags` in the next cell."
   ]
  },
  {
   "cell_type": "code",
   "execution_count": 6,
   "metadata": {},
   "outputs": [
    {
     "name": "stdout",
     "output_type": "stream",
     "text": [
      "The 'stat' flags for my OS 'MacOS' and shell 'bash' are '-f \"%m %N\" {}'\n"
     ]
    }
   ],
   "source": [
    "stat_flags = '-c \"%y %n\" {}'\n",
    "if my_os == 'MacOS':\n",
    "    stat_flags = '-f \"%m %N\" {}'\n",
    "print(f\"The 'stat' flags for my OS \\'{my_os}\\' and shell \\'{my_shell}\\' are \\'{stat_flags}\\'\")"
   ]
  },
  {
   "cell_type": "code",
   "execution_count": 7,
   "metadata": {},
   "outputs": [
    {
     "name": "stderr",
     "output_type": "stream",
     "text": [
      "<>:16: SyntaxWarning: invalid escape sequence '\\;'\n",
      "<>:16: SyntaxWarning: invalid escape sequence '\\;'\n",
      "/var/folders/8t/m9m188_d0tb8szvfqlc20hfr0000gn/T/ipykernel_46078/866531455.py:16: SyntaxWarning: invalid escape sequence '\\;'\n",
      "  \"answer\": f\"find . -maxdepth 1 -exec stat {stat_flags} \\; | sort -n -r | tail -n 7\",\n"
     ]
    }
   ],
   "source": [
    "examples = [\n",
    "    {\n",
    "        \"question\": \"Recursively find files that match '*.js', and filter out files with 'excludeddir' in their paths.\",\n",
    "        \"answer\": \"find . -name '*.js' | grep -v excludeddir\",\n",
    "    },\n",
    "    {\n",
    "        \"question\": \"Dump \\\"a0b\\\" as hexadecimal bytes.\",\n",
    "        \"answer\": \"printf \\\"a0b\\\" | od -tx1\",\n",
    "    },\n",
    "    {\n",
    "        \"question\": \"Create a tar ball of all pdf files in the current folder and any subdirectories.\",\n",
    "        \"answer\": \"find . -name '*.pdf' | xargs tar czvf pdf.tar\",\n",
    "    },\n",
    "    {\n",
    "        \"question\": \"Sort all files and directories in the current directory, but no subdirectories, according to modification time, and print only the seven most recently modified items.\",\n",
    "        \"answer\": f\"find . -maxdepth 1 -exec stat {stat_flags} '\\' | sort -n -r | tail -n 7\",\n",
    "    },\n",
    "    {\n",
    "        \"question\": \"Find all the empty directories in and under the current directory.\",\n",
    "        \"answer\": \"find . -type d -empty\",\n",
    "    },\n",
    "]"
   ]
  },
  {
   "cell_type": "markdown",
   "metadata": {},
   "source": [
    "### Assemble the prompt template\n",
    "\n",
    "Here we build up a chat prompt template from messages. See the [Langchain docs](https://python.langchain.com/docs/how_to/few_shot_examples_chat/#fixed-examples) for more details."
   ]
  },
  {
   "cell_type": "code",
   "execution_count": 8,
   "metadata": {},
   "outputs": [
    {
     "name": "stdout",
     "output_type": "stream",
     "text": [
      "['question']\n"
     ]
    }
   ],
   "source": [
    "from langchain_core.prompts import ChatPromptTemplate, FewShotChatMessagePromptTemplate\n",
    "\n",
    "example_prompt = ChatPromptTemplate.from_messages(\n",
    "    [\n",
    "        (\"human\", \"{question}\"),\n",
    "        (\"ai\", \"{answer}\"),\n",
    "    ]\n",
    ")\n",
    "\n",
    "few_shot_prompt = FewShotChatMessagePromptTemplate(\n",
    "    example_prompt=example_prompt,\n",
    "    examples=examples,\n",
    ")\n",
    "\n",
    "chat_template = ChatPromptTemplate.from_messages(\n",
    "    [\n",
    "        few_shot_prompt,\n",
    "        (\"human\", \"{question}\"),\n",
    "    ]\n",
    ")\n",
    "\n",
    "print(chat_template.input_variables)\n"
   ]
  },
  {
   "cell_type": "markdown",
   "metadata": {},
   "source": [
    "### View the completed prompt\n",
    "\n",
    "Create a prompt and inspect the fully-interpolated chat template. Alternating Human/AI messages create a structure that the model will follow."
   ]
  },
  {
   "cell_type": "code",
   "execution_count": 9,
   "metadata": {},
   "outputs": [
    {
     "name": "stdout",
     "output_type": "stream",
     "text": [
      "Human: Recursively find files that match '*.js', and filter out files with 'excludeddir' in their paths.\n",
      "AI: find . -name '*.js' | grep -v excludeddir\n",
      "Human: Dump \"a0b\" as hexadecimal bytes.\n",
      "AI: printf \"a0b\" | od -tx1\n",
      "Human: Create a tar ball of all pdf files in the current folder and any subdirectories.\n",
      "AI: find . -name '*.pdf' | xargs tar czvf pdf.tar\n",
      "Human: Sort all files and directories in the current directory, but no subdirectories, according to modification time, and print only the seven most recently modified items.\n",
      "AI: find . -maxdepth 1 -exec stat -f \"%m %N\" {} \\; | sort -n -r | tail -n 7\n",
      "Human: Find all the empty directories in and under the current directory.\n",
      "AI: find . -type d -empty\n",
      "Human: Show me a bash script to print the first 50 files found under the current working directorythat have been modified within the last week. Make sure you show the last modification timefor each file in the output.\n"
     ]
    }
   ],
   "source": [
    "# Construct a prompt with no tabs and newlines.\n",
    "prompt = dedent(f\"\"\"\\\n",
    "    Show me a {my_shell} script to print the first 50 files found under the current working directory\n",
    "    that have been modified within the last week. Make sure you show the last modification time\n",
    "    for each file in the output.\"\"\"\n",
    ").replace(\"\\n\", \"\")\n",
    "\n",
    "print(chat_template.format(question=prompt))"
   ]
  },
  {
   "cell_type": "markdown",
   "metadata": {},
   "source": [
    "### Run the model"
   ]
  },
  {
   "cell_type": "code",
   "execution_count": 10,
   "metadata": {},
   "outputs": [
    {
     "name": "stdout",
     "output_type": "stream",
     "text": [
      "Here is a bash script that should accomplish the task:\n",
      "\n",
      "```bash\n",
      "#!/bin/bash\n",
      "\n",
      "# Find files modified in the last week and print their names along with modification times\n",
      "find . -type f -newerwt -printf \"%T+ %p\\n\" | head -50\n",
      "```\n",
      "\n",
      "This script works as follows:\n",
      "\n",
      "- `find . -type f -newerwt`: This command finds all files (`-type f`) in the current directory (`.`) that have been modified or created (`-newerwt`) more recently than the timestamp of the search warrant (i.e., now).\n",
      "- `-printf \"%T+ %p\\n\"`: This option tells `find` to print the modification time (`%T+`) and the file path (`%p`) for each matching file, followed by a newline character (`\\n`).\n",
      "- `head -50`: This command limits the output to the first 50 lines.\n",
      "\n",
      "Please note that you may need to make the script executable with the command `chmod +x script.sh` before running it. Replace `script.sh` with the actual name of your script file.\n"
     ]
    }
   ],
   "source": [
    "chain = chat_template | model\n",
    "response = chain.invoke({\"question\": prompt})\n",
    "print(response)"
   ]
  },
  {
   "cell_type": "markdown",
   "metadata": {},
   "source": [
    "## Adding a System Prompt\n",
    "\n",
    "Finally, a _system prompt_ is the preferred way to provide additional instructions and clarity about the context for a task, especially when this same information applies for _all_ user queries in the application. When you are building an AI-enabled application for a set of use cases, you will probably spend a lot of time refining the system prompt to maximize the quality of the results!\n",
    "\n",
    "Here we define a system prompt to let the model know what we expect from it, including the expected language and os compatibility. To separate the system prompt from the user prompt, we use a chat template, which separates the prompt into messages and allows us to indicate the role of the speaker.\n"
   ]
  },
  {
   "cell_type": "code",
   "execution_count": 11,
   "metadata": {},
   "outputs": [
    {
     "name": "stdout",
     "output_type": "stream",
     "text": [
      "['question']\n"
     ]
    }
   ],
   "source": [
    "from langchain_core.messages import SystemMessage\n",
    "\n",
    "system_prompt = SystemMessage(content=dedent(f\"\"\"\\\n",
    "    You are a helpful software engineer. You write clear, concise, well-commented code. Do not output anything but the code.\n",
    "    Make sure you only generate {my_shell} code that is {my_os}-compatible!\"\"\"\n",
    "))\n",
    "\n",
    "chat_template_with_system_message = ChatPromptTemplate.from_messages(\n",
    "    [\n",
    "        system_prompt,\n",
    "        few_shot_prompt,\n",
    "        (\"human\", \"{question}\"),\n",
    "    ]\n",
    ")\n",
    "\n",
    "print(chat_template_with_system_message.input_variables)"
   ]
  },
  {
   "cell_type": "markdown",
   "metadata": {},
   "source": [
    "### Run the model\n",
    "\n",
    "Note that the model has removed its chatter from around the code block."
   ]
  },
  {
   "cell_type": "code",
   "execution_count": 12,
   "metadata": {},
   "outputs": [
    {
     "name": "stdout",
     "output_type": "stream",
     "text": [
      "Here is a bash script that will print the first 50 files found under the current working directory that have been modified within the last week, along with their last modification times:\n",
      "\n",
      "```bash\n",
      "#!/bin/bash\n",
      "\n",
      "# Find files modified within the last week and print their names and modification times\n",
      "find . -type f -newerwt -print0 | head -z -n 50 | while IFS= read -r -d '' file; do\n",
      "    echo \"File: $file\"\n",
      "    echo \"Last Modified: $(date -r $file +'%Y-%m-%d %H:%M:%S')\"\n",
      "    echo \"\"\n",
      "done\n",
      "```\n",
      "\n",
      "This script uses the `find` command to locate files modified within the last week (`-newerwt`). The `-print0` option is used to separate file names with null characters instead of newlines, which allows the script to handle file names with spaces or newlines. The `head -z -n 50` command limits the output to the first 50 files. The `while` loop reads each file name, prints the file name, and then uses `date -r` to display the last modification time in the desired format.\n"
     ]
    }
   ],
   "source": [
    "chain_sys = chat_template_with_system_message | model\n",
    "response = chain_sys.invoke({\"question\": prompt})\n",
    "print(response)"
   ]
  },
  {
   "cell_type": "markdown",
   "metadata": {},
   "source": [
    "### For further study\n",
    "- Try different queries. Test them to see if the model generated them correctly.\n",
    "- Try invoking the model chain several times. How do the responses change from one invocation to the next?\n",
    "- Try adding more examples to the `examples` string or modifying the ones shown. Does this affect the outputs?"
   ]
  }
 ],
 "metadata": {
  "language_info": {
   "codemirror_mode": {
    "name": "ipython",
    "version": 3
   },
   "file_extension": ".py",
   "mimetype": "text/x-python",
   "name": "python",
   "nbconvert_exporter": "python",
   "pygments_lexer": "ipython3",
   "version": "3.12.8"
  }
 },
 "nbformat": 4,
 "nbformat_minor": 4
}
